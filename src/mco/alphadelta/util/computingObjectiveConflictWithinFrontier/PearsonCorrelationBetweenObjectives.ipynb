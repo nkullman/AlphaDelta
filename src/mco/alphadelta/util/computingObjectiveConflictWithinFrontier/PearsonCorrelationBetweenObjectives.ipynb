{
 "cells": [
  {
   "cell_type": "markdown",
   "metadata": {},
   "source": [
    "# Computing the correlation between objectives in multi-objective optimization\n",
    "Given a Pareto-optimal frontier of solutions to a multi-criterion optimization model, this program computes the Pearson correlation coefficients between each pair of objectives. This provides a measure of the conflict among the objectives."
   ]
  },
  {
   "cell_type": "code",
   "execution_count": 1,
   "metadata": {
    "collapsed": false
   },
   "outputs": [],
   "source": [
    "import pandas as pd\n",
    "import numpy as np\n",
    "import itertools"
   ]
  },
  {
   "cell_type": "markdown",
   "metadata": {},
   "source": [
    "### Prepocess data and normalize the objective space"
   ]
  },
  {
   "cell_type": "code",
   "execution_count": 9,
   "metadata": {
    "collapsed": false
   },
   "outputs": [],
   "source": [
    "# Get the solutions that define the pareto frontier.\n",
    "# It is assumed that these frontiers do not contain any dominated solutions\n",
    "# (that is, that the solutions are truly Pareto optimal)\n",
    "\n",
    "sols = pd.read_csv(\"../solutionSets/3d/ClimateChange_E85/climateChange_EfficientSolutions_E85.csv\")"
   ]
  },
  {
   "cell_type": "code",
   "execution_count": 10,
   "metadata": {
    "collapsed": false
   },
   "outputs": [],
   "source": [
    "# Hard-coded manipulations to tidy-up sols\n",
    "\n",
    "sols = sols.drop([\"SolutionIndex\",\"Frontier\"],axis=1) #remove solution index and frontier columns (climate change sets)\n",
    "#sols = sols.drop([\"SolutionIndex\"],axis=1) #remove solution index column (pack forest and Chilean sets and portfolio opt)\n",
    "# nothing for some sets (toth mcDill, small sed fire)"
   ]
  },
  {
   "cell_type": "code",
   "execution_count": 11,
   "metadata": {
    "collapsed": false
   },
   "outputs": [],
   "source": [
    "# Get list of objectives from the dataframe\n",
    "\n",
    "objs = sols.columns.tolist()"
   ]
  },
  {
   "cell_type": "code",
   "execution_count": 12,
   "metadata": {
    "collapsed": false
   },
   "outputs": [],
   "source": [
    "# Create empty dictionary to hold the objectives and the senses of each\n",
    "# This process is hard-coded and requires some knowledge about the model\n",
    "# that resulted in the dataframe\n",
    "\n",
    "objSenses = {}\n",
    "\n",
    "# Hard-coded manipulations to properly set objSenses (max/min)\n",
    "# 1 for max, and 0 for min\n",
    "\n",
    "for obj in objs:\n",
    "    objSenses[obj] = 0\n",
    "objSenses[\"Northern Spotted Owl Habitat (ha)\"] = 1\n",
    "#objSenses[\"PER\"] = 0\n",
    "#objSenses"
   ]
  },
  {
   "cell_type": "code",
   "execution_count": 13,
   "metadata": {
    "collapsed": false
   },
   "outputs": [],
   "source": [
    "def maxAllAndNorm(origf,objSenses):\n",
    "    \n",
    "    f = origf\n",
    "    \n",
    "    # get bounds on the objectives' values\n",
    "    objBounds = {}\n",
    "    for obj,sense in objSenses.items():\n",
    "        objBounds[obj] = [f[obj].min(),f[obj].max()]\n",
    "    # get each objective's ideal value\n",
    "    idealObjVals = {}\n",
    "    for obj,bounds in objBounds.items():\n",
    "        idealObjVals[obj] = bounds[objSenses[obj]] # 0th entry of bounds is min, 1st is max\n",
    "    # get each objective's worst value\n",
    "    worstObjVals = {}\n",
    "    for obj,bounds in objBounds.items():\n",
    "        worstObjVals[obj] = bounds[not(objSenses[obj])]\n",
    "        \n",
    "    # Normalize the objective spaces by converting each value to the relative achievement along its axis:\n",
    "\n",
    "    #   distance from the worst case value\n",
    "    # ---------------------------------------\n",
    "    # total distance spanned by the objective\n",
    "\n",
    "    # Normalized objective space is in [0,1]^N where N = # of objectives\n",
    "\n",
    "\n",
    "    for obj,bounds in objBounds.items():\n",
    "        f[obj] = f[obj].apply(\n",
    "            lambda x: \\\n",
    "            abs(x - worstObjVals[obj]) / \\\n",
    "            (bounds[1]-bounds[0]))\n",
    "    \n",
    "    return f"
   ]
  },
  {
   "cell_type": "markdown",
   "metadata": {},
   "source": [
    "### Computing the Pearson correlation coefficients"
   ]
  },
  {
   "cell_type": "code",
   "execution_count": 14,
   "metadata": {
    "collapsed": true
   },
   "outputs": [],
   "source": [
    "# Convert and normalize the data\n",
    "\n",
    "sols = maxAllAndNorm(sols,objSenses)"
   ]
  },
  {
   "cell_type": "code",
   "execution_count": 15,
   "metadata": {
    "collapsed": false
   },
   "outputs": [
    {
     "name": "stdout",
     "output_type": "stream",
     "text": [
      "Fire Hazard Increase, Northern Spotted Owl Habitat (ha), -0.207108710963\n",
      "Fire Hazard Increase, Peak Sediment Delivery (t), -0.719553763215\n",
      "Northern Spotted Owl Habitat (ha), Peak Sediment Delivery (t), 0.0157417885638\n"
     ]
    }
   ],
   "source": [
    "# Compute correlation coefficients for each combination of objectives\n",
    "\n",
    "\n",
    "for objPair in itertools.combinations(objs,2):\n",
    "    print(objPair[0] + \", \" + objPair[1] + \", \" + \\\n",
    "          str(np.corrcoef(sols[objPair[0]],sols[objPair[1]])[0,1]))"
   ]
  },
  {
   "cell_type": "code",
   "execution_count": null,
   "metadata": {
    "collapsed": true
   },
   "outputs": [],
   "source": []
  }
 ],
 "metadata": {
  "kernelspec": {
   "display_name": "Python 3",
   "language": "python",
   "name": "python3"
  },
  "language_info": {
   "codemirror_mode": {
    "name": "ipython",
    "version": 3
   },
   "file_extension": ".py",
   "mimetype": "text/x-python",
   "name": "python",
   "nbconvert_exporter": "python",
   "pygments_lexer": "ipython3",
   "version": "3.4.4"
  }
 },
 "nbformat": 4,
 "nbformat_minor": 0
}
