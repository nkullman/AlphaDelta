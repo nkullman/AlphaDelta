{
 "cells": [
  {
   "cell_type": "markdown",
   "metadata": {},
   "source": [
    "# Computing the area of a frontier's 2D cross section\n",
    "Given a Pareto-optimal frontiers f1, for each 2D cross section of the frontier, this program computes the area bounded by the solutions in f1 that are non-dominated in the cross section. Assuming, wlog, that all objectives are MAX, the larger the area, the less conflict."
   ]
  },
  {
   "cell_type": "code",
   "execution_count": 36,
   "metadata": {
    "collapsed": true
   },
   "outputs": [],
   "source": [
    "import pandas as pd\n",
    "import numpy as np\n",
    "import itertools\n",
    "import time"
   ]
  },
  {
   "cell_type": "markdown",
   "metadata": {},
   "source": [
    "### Preparation for volume computation algorithm"
   ]
  },
  {
   "cell_type": "code",
   "execution_count": 45,
   "metadata": {
    "collapsed": false
   },
   "outputs": [],
   "source": [
    "# Get the solutions that define the pareto frontier.\n",
    "# It is assumed that these frontiers do not contain any dominated solutions\n",
    "# (that is, that the solutions are truly Pareto optimal)\n",
    "\n",
    "sols = pd.read_csv(\"../solutionSets/3d/ClimateChange_E85/climateChange_EfficientSolutions_E85.csv\")"
   ]
  },
  {
   "cell_type": "code",
   "execution_count": 46,
   "metadata": {
    "collapsed": false
   },
   "outputs": [],
   "source": [
    "# Hard-coded manipulations to tidy-up sols\n",
    "\n",
    "# set index, remove unwanted columns\n",
    "sols = sols.set_index(\"1-\" + sols[\"SolutionIndex\"].astype(str))\n",
    "sols = sols.drop([\"SolutionIndex\",\"Frontier\"],axis=1)"
   ]
  },
  {
   "cell_type": "code",
   "execution_count": 47,
   "metadata": {
    "collapsed": false
   },
   "outputs": [],
   "source": [
    "# Get list of objectives from the dataframe\n",
    "\n",
    "objs = sols.columns.tolist()"
   ]
  },
  {
   "cell_type": "code",
   "execution_count": 48,
   "metadata": {
    "collapsed": true
   },
   "outputs": [],
   "source": [
    "# Create empty dictionary to hold the objectives and the senses of each\n",
    "# This process is hard-coded and requires some knowledge about the model\n",
    "# that resulted in the dataframe\n",
    "\n",
    "objSenses = {}\n",
    "\n",
    "# Hard-coded manipulations to properly set objSenses (max/min)\n",
    "# 1 for max, and 0 for min\n",
    "\n",
    "for obj in objs:\n",
    "    objSenses[obj] = 0\n",
    "objSenses[\"Northern Spotted Owl Habitat (ha)\"] = 1\n",
    "#objSenses[\"PER\"] = 0\n",
    "#objSenses"
   ]
  },
  {
   "cell_type": "code",
   "execution_count": 49,
   "metadata": {
    "collapsed": true
   },
   "outputs": [],
   "source": [
    "def maxAllAndNorm(origf,objSenses):\n",
    "    \n",
    "    f = origf\n",
    "    \n",
    "    # get bounds on the objectives' values\n",
    "    objBounds = {}\n",
    "    for obj,sense in objSenses.items():\n",
    "        objBounds[obj] = [f[obj].min(),f[obj].max()]\n",
    "    # get each objective's ideal value\n",
    "    idealObjVals = {}\n",
    "    for obj,bounds in objBounds.items():\n",
    "        idealObjVals[obj] = bounds[objSenses[obj]] # 0th entry of bounds is min, 1st is max\n",
    "    # get each objective's worst value\n",
    "    worstObjVals = {}\n",
    "    for obj,bounds in objBounds.items():\n",
    "        worstObjVals[obj] = bounds[not(objSenses[obj])]\n",
    "        \n",
    "    # Normalize the objective spaces by converting each value to the relative achievement along its axis:\n",
    "\n",
    "    #   distance from the worst case value\n",
    "    # ---------------------------------------\n",
    "    # total distance spanned by the objective\n",
    "\n",
    "    # Normalized objective space is in [0,1]^N where N = # of objectives\n",
    "\n",
    "\n",
    "    for obj,bounds in objBounds.items():\n",
    "        f[obj] = f[obj].apply(\n",
    "            lambda x: \\\n",
    "            abs(x - worstObjVals[obj]) / \\\n",
    "            (bounds[1]-bounds[0]))\n",
    "    \n",
    "    return f"
   ]
  },
  {
   "cell_type": "code",
   "execution_count": 50,
   "metadata": {
    "collapsed": false
   },
   "outputs": [],
   "source": [
    "# Convert and normalize the data\n",
    "\n",
    "sols = maxAllAndNorm(sols,objSenses)"
   ]
  },
  {
   "cell_type": "code",
   "execution_count": 51,
   "metadata": {
    "collapsed": false
   },
   "outputs": [],
   "source": [
    "def removeDominatedAndWeaklyDominatedSolutions(f):\n",
    "    '''\n",
    "    Given a dataframe of solutions, returns a dataframe with only\n",
    "    nondominated solutions.\n",
    "    \n",
    "    It is assumed that each column is an objective and that all objectives\n",
    "    aim to be maximized.\n",
    "    '''\n",
    "    newf = f\n",
    "\n",
    "    objectives = f.columns.tolist()\n",
    "    \n",
    "    for idx,row in f.iterrows(): # searching for a solution that dominates this one\n",
    "        for idx2,row2 in f.iterrows(): # scanning over all other solutions\n",
    "            if np.all((row[objectives] <= row2[objectives])) and idx2 != idx: # if we find a solution that dominates idx,\n",
    "                newf = newf.drop(idx) # then we remove that index from the to-be-returned dataframe\n",
    "                break # and stop searching for a dominating solution\n",
    "            \n",
    "    return newf"
   ]
  },
  {
   "cell_type": "markdown",
   "metadata": {},
   "source": [
    "### Algorithm to compute volume of frontier"
   ]
  },
  {
   "cell_type": "code",
   "execution_count": 52,
   "metadata": {
    "collapsed": false
   },
   "outputs": [
    {
     "name": "stdout",
     "output_type": "stream",
     "text": [
      "['Fire Hazard Increase', 'Northern Spotted Owl Habitat (ha)']: 0.990132672219\n",
      "------------------\n",
      "['Fire Hazard Increase', 'Peak Sediment Delivery (t)']: 0.848770430413\n",
      "------------------\n",
      "['Northern Spotted Owl Habitat (ha)', 'Peak Sediment Delivery (t)']: 0.999999990663\n",
      "------------------\n"
     ]
    }
   ],
   "source": [
    "# Get the non-dominated sets for each 2D cross-section\n",
    "\n",
    "for objPair in itertools.combinations(objs,2):\n",
    "    op = list(objPair)\n",
    "    # prepare the non-dominated set for the area computation\n",
    "    # by removing the dominated points and sorting it in descending order according to the first objective\n",
    "    csf = removeDominatedAndWeaklyDominatedSolutions(sols[op]).sort_values(by=[op[0]],ascending=False)\n",
    "    csvol = np.prod(csf.ix[0])\n",
    "    for i in np.arange(1,len(csf)):\n",
    "        csvol += (csf.ix[i][op[1]]-csf.ix[i-1][op[1]])*csf.ix[i][op[0]]\n",
    "    print (str(op) + \": \" + str(csvol))\n",
    "    print (\"------------------\")"
   ]
  },
  {
   "cell_type": "code",
   "execution_count": null,
   "metadata": {
    "collapsed": true
   },
   "outputs": [],
   "source": []
  }
 ],
 "metadata": {
  "kernelspec": {
   "display_name": "Python 3",
   "language": "python",
   "name": "python3"
  },
  "language_info": {
   "codemirror_mode": {
    "name": "ipython",
    "version": 3
   },
   "file_extension": ".py",
   "mimetype": "text/x-python",
   "name": "python",
   "nbconvert_exporter": "python",
   "pygments_lexer": "ipython3",
   "version": "3.4.4"
  }
 },
 "nbformat": 4,
 "nbformat_minor": 0
}
