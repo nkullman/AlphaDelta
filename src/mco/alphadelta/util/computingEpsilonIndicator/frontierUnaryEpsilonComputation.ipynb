{
 "cells": [
  {
   "cell_type": "markdown",
   "metadata": {},
   "source": [
    "# Computing the unary epsilon indicator of two Pareto frontier\n",
    "This program computes the (additive) unary epsilon indicator of a Pareto-optimal frontier, which measures the distance a frontier must be translated in order to \"cover\" (at least weakly dominate) the frontier's ideal solution. Generally, this indicator measures the distance to a Pareto set, but as we begin with a Pareto set, that measure does not apply. Since we use this to compare across frontiers with varying bounds on their objective spaces, this program first normalizes the objective space that it is entirely within the [0,1]^N hypercube (N objectives)."
   ]
  },
  {
   "cell_type": "code",
   "execution_count": 1,
   "metadata": {
    "collapsed": true
   },
   "outputs": [],
   "source": [
    "import pandas as pd\n",
    "import numpy as np\n",
    "import time"
   ]
  },
  {
   "cell_type": "markdown",
   "metadata": {},
   "source": [
    "### Functions used"
   ]
  },
  {
   "cell_type": "code",
   "execution_count": 2,
   "metadata": {
    "collapsed": true
   },
   "outputs": [],
   "source": [
    "def computeAdditiveUnaryEpsilonIndicator(f1):\n",
    "    '''\n",
    "    Computes the unary epsilon indicator for a frontier\n",
    "    The unary epsilon indicator is the addend by which each component of each solution in f1 must be increased\n",
    "    such that the ideal solution is covered\n",
    "    '''\n",
    "        \n",
    "    # get list of objectives (assumed to be column headers)\n",
    "    # objectives are assumed to be max\n",
    "    objectives = f1.columns.tolist()\n",
    "    f2 = pd.DataFrame(columns=objectives)\n",
    "    f2.loc[0] = np.ones(len(objectives))\n",
    "    \n",
    "    # initialize the result\n",
    "    epsilon = -np.Inf\n",
    "    for idx2,row2 in f2.iterrows(): # for each solution z2 in f2...\n",
    "        # what's the minimimum amount that f1 would have to be translated\n",
    "        # so that at least one solution z1 in f1 weakly dominates z2?\n",
    "        minTranslationToCover = np.Inf\n",
    "        for idx1,row1 in f1.iterrows():\n",
    "            minTranslationToCover = min(minTranslationToCover,max(row2[objectives] - row1[objectives]))\n",
    "            \n",
    "        epsilon = max(epsilon,minTranslationToCover)                \n",
    "    \n",
    "    return epsilon"
   ]
  },
  {
   "cell_type": "code",
   "execution_count": 3,
   "metadata": {
    "collapsed": true
   },
   "outputs": [],
   "source": [
    "def maxAllAndNorm(origf,objSenses):\n",
    "    \n",
    "    f = origf\n",
    "    \n",
    "    # get bounds on the objectives' values\n",
    "    objBounds = {}\n",
    "    for obj,sense in objSenses.items():\n",
    "        objBounds[obj] = [f[obj].min(),f[obj].max()]\n",
    "    # get each objective's ideal value\n",
    "    idealObjVals = {}\n",
    "    for obj,bounds in objBounds.items():\n",
    "        idealObjVals[obj] = bounds[objSenses[obj]] # 0th entry of bounds is min, 1st is max\n",
    "    # get each objective's worst value\n",
    "    worstObjVals = {}\n",
    "    for obj,bounds in objBounds.items():\n",
    "        worstObjVals[obj] = bounds[not(objSenses[obj])]\n",
    "        \n",
    "    # Normalize the objective spaces by converting each value to the relative achievement along its axis:\n",
    "\n",
    "    #   distance from the worst case value\n",
    "    # ---------------------------------------\n",
    "    # total distance spanned by the objective\n",
    "\n",
    "    # Normalized objective space is in [0,1]^N where N = # of objectives\n",
    "\n",
    "\n",
    "    for obj,bounds in objBounds.items():\n",
    "        f[obj] = f[obj].apply(\n",
    "            lambda x: \\\n",
    "            abs(x - worstObjVals[obj]) / \\\n",
    "            (bounds[1]-bounds[0]))\n",
    "    \n",
    "    return f"
   ]
  },
  {
   "cell_type": "markdown",
   "metadata": {},
   "source": [
    "### Preparation for I_eps1 computation algorithm"
   ]
  },
  {
   "cell_type": "code",
   "execution_count": 4,
   "metadata": {
    "collapsed": false
   },
   "outputs": [],
   "source": [
    "# Get the solutions that define the pareto frontiers.\n",
    "# It is assumed that these frontiers do not contain any dominated solutions\n",
    "# (that is, that the solutions are truly Pareto optimal)\n",
    "\n",
    "f1 = pd.read_csv(\"../solutionSets/3d/ClimateChange_None/OptimalSolutions_NONE_nondominated.txt\")"
   ]
  },
  {
   "cell_type": "code",
   "execution_count": 5,
   "metadata": {
    "collapsed": false
   },
   "outputs": [],
   "source": [
    "# Hard-coded manipulations to tidy-up sols\n",
    "\n",
    "# set index, remove unwanted columns\n",
    "f1 = f1.drop([\"SolutionIndex\"],axis=1)"
   ]
  },
  {
   "cell_type": "code",
   "execution_count": 6,
   "metadata": {
    "collapsed": false
   },
   "outputs": [],
   "source": [
    "# Get list of objectives from the dataframe (assumed to be identical across the frontiers)\n",
    "\n",
    "objs = f1.columns.tolist()"
   ]
  },
  {
   "cell_type": "code",
   "execution_count": 7,
   "metadata": {
    "collapsed": false
   },
   "outputs": [],
   "source": [
    "# Create empty dictionary to hold the objectives and the senses of each\n",
    "# This process is hard-coded and requires some knowledge about the model\n",
    "# that resulted in the dataframe\n",
    "\n",
    "objSenses = {}\n",
    "\n",
    "# Hard-coded manipulations to properly set objSenses (max/min)\n",
    "# 1 for max, and 0 for min\n",
    "\n",
    "for obj in objs:\n",
    "    objSenses[obj] = 0\n",
    "objSenses[\" MinOwlHabitat\"] = 1\n",
    "#objSenses[\"PER\"] = 0\n",
    "#objSenses"
   ]
  },
  {
   "cell_type": "markdown",
   "metadata": {},
   "source": [
    "### Running the algorithm"
   ]
  },
  {
   "cell_type": "code",
   "execution_count": 8,
   "metadata": {
    "collapsed": false
   },
   "outputs": [
    {
     "data": {
      "text/plain": [
       "0.20485718615650172"
      ]
     },
     "execution_count": 8,
     "metadata": {},
     "output_type": "execute_result"
    }
   ],
   "source": [
    "# Compute the binary epsilon indicator\n",
    "\n",
    "f1 = maxAllAndNorm(f1,objSenses)\n",
    "\n",
    "computeAdditiveUnaryEpsilonIndicator(f1)"
   ]
  }
 ],
 "metadata": {
  "kernelspec": {
   "display_name": "Python 3",
   "language": "python",
   "name": "python3"
  },
  "language_info": {
   "codemirror_mode": {
    "name": "ipython",
    "version": 3
   },
   "file_extension": ".py",
   "mimetype": "text/x-python",
   "name": "python",
   "nbconvert_exporter": "python",
   "pygments_lexer": "ipython3",
   "version": "3.4.4"
  }
 },
 "nbformat": 4,
 "nbformat_minor": 0
}
