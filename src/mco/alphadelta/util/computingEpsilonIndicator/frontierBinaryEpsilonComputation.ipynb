{
 "cells": [
  {
   "cell_type": "markdown",
   "metadata": {},
   "source": [
    "# Computing the binary epsilon indicator of two Pareto frontier\n",
    "This program computes the (additive) binary epsilon indicator of two Pareto-optimal frontiers. This provides a means of comparing the frontiers. See Zitzler 2009 for more."
   ]
  },
  {
   "cell_type": "code",
   "execution_count": 1,
   "metadata": {
    "collapsed": true
   },
   "outputs": [],
   "source": [
    "import pandas as pd\n",
    "import numpy as np\n",
    "import time"
   ]
  },
  {
   "cell_type": "markdown",
   "metadata": {},
   "source": [
    "### Functions used"
   ]
  },
  {
   "cell_type": "code",
   "execution_count": 2,
   "metadata": {
    "collapsed": true
   },
   "outputs": [],
   "source": [
    "def computeAdditiveBinaryEpsilonIndicator(f1,f2):\n",
    "    '''\n",
    "    Computes the binary epsilon indicator for two frontiers f1 and f2\n",
    "    The binary epsilon indicator is the addend by which each solution in f1 must be increased in order to be at least \n",
    "    as good as every solution in f2\n",
    "    \n",
    "    Q: f1 plus what makes it at least as good as f2 everywhere?\n",
    "    A: epsilon\n",
    "    '''\n",
    "        \n",
    "    # get list of objectives (assumed to be column headers)\n",
    "    # objectives are assumed to be max\n",
    "    objectives = f1.columns.tolist()\n",
    "    \n",
    "    # initialize the result\n",
    "    epsilon = -np.Inf\n",
    "    tc = 0\n",
    "    for idx2,row2 in f2.iterrows(): # for each solution z2 in f2...\n",
    "        # what's the minimimum amount that f1 would have to be translated\n",
    "        # so that at least one solution z1 in f1 weakly dominates z2?\n",
    "        minTranslationToCover = np.Inf\n",
    "        for idx1,row1 in f1.iterrows():\n",
    "            minTranslationToCover = min(minTranslationToCover,max(row2[objectives] - row1[objectives]))\n",
    "            \n",
    "        epsilon = max(epsilon,minTranslationToCover)                \n",
    "    \n",
    "    return epsilon"
   ]
  },
  {
   "cell_type": "code",
   "execution_count": 3,
   "metadata": {
    "collapsed": true
   },
   "outputs": [],
   "source": [
    "def maxAll(origf,objSenses):\n",
    "    \n",
    "    f = origf\n",
    "    \n",
    "    # Convert each objective to maximization but do not normalize\n",
    "    for obj,sense in objSenses.items():\n",
    "        if sense == 0:\n",
    "            f[obj] = f[obj] * -1\n",
    "    \n",
    "    return f"
   ]
  },
  {
   "cell_type": "code",
   "execution_count": 4,
   "metadata": {
    "collapsed": true
   },
   "outputs": [],
   "source": [
    "def maxAllAndNorm(origf,objSenses):\n",
    "    \n",
    "    f = origf\n",
    "    \n",
    "    # get bounds on the objectives' values\n",
    "    objBounds = {}\n",
    "    for obj,sense in objSenses.items():\n",
    "        objBounds[obj] = [f[obj].min(),f[obj].max()]\n",
    "    # get each objective's ideal value\n",
    "    idealObjVals = {}\n",
    "    for obj,bounds in objBounds.items():\n",
    "        idealObjVals[obj] = bounds[objSenses[obj]] # 0th entry of bounds is min, 1st is max\n",
    "    # get each objective's worst value\n",
    "    worstObjVals = {}\n",
    "    for obj,bounds in objBounds.items():\n",
    "        worstObjVals[obj] = bounds[not(objSenses[obj])]\n",
    "        \n",
    "    # Normalize the objective spaces by converting each value to the relative achievement along its axis:\n",
    "\n",
    "    #   distance from the worst case value\n",
    "    # ---------------------------------------\n",
    "    # total distance spanned by the objective\n",
    "\n",
    "    # Normalized objective space is in [0,1]^N where N = # of objectives\n",
    "\n",
    "\n",
    "    for obj,bounds in objBounds.items():\n",
    "        f[obj] = f[obj].apply(\n",
    "            lambda x: \\\n",
    "            abs(x - worstObjVals[obj]) / \\\n",
    "            (bounds[1]-bounds[0]))\n",
    "    \n",
    "    return f"
   ]
  },
  {
   "cell_type": "markdown",
   "metadata": {},
   "source": [
    "### Preparation for I_eps computation algorithm"
   ]
  },
  {
   "cell_type": "code",
   "execution_count": 5,
   "metadata": {
    "collapsed": false
   },
   "outputs": [],
   "source": [
    "# Get the solutions that define the pareto frontiers.\n",
    "# It is assumed that these frontiers do not contain any dominated solutions\n",
    "# (that is, that the solutions are truly Pareto optimal)\n",
    "\n",
    "f1 = pd.read_csv(\"../solutionSets/3d/ClimateChange_None/climateChange_EfficientSolutions_NoneOnly.csv\")\n",
    "f2 = pd.read_csv(\"../solutionSets/3d/ClimateChange_E85/climateChange_EfficientSolutions_E85.csv\")"
   ]
  },
  {
   "cell_type": "code",
   "execution_count": 6,
   "metadata": {
    "collapsed": false
   },
   "outputs": [],
   "source": [
    "# Hard-coded manipulations to tidy-up sols\n",
    "\n",
    "# set index, remove unwanted columns\n",
    "f1 = f1.set_index(\"1-\" + f1[\"SolutionIndex\"].astype(str))\n",
    "f1 = f1.drop([\"SolutionIndex\",\"Frontier\"],axis=1)\n",
    "# set index, remove unwanted columns, rename fire hazard column to match f1, reorder columns\n",
    "f2 = f2.set_index(\"2-\" + f2[\"SolutionIndex\"].astype(str))\n",
    "f2 = f2.drop([\"SolutionIndex\",\"Frontier\"],axis=1).rename(columns={\"Fire Hazard Increase\":\"Fire Hazard\"})\n",
    "f2 = f2[f1.columns.tolist()]"
   ]
  },
  {
   "cell_type": "code",
   "execution_count": 7,
   "metadata": {
    "collapsed": false
   },
   "outputs": [],
   "source": [
    "# Get list of objectives from the dataframe (assumed to be identical across the frontiers)\n",
    "\n",
    "objs = f1.columns.tolist()"
   ]
  },
  {
   "cell_type": "code",
   "execution_count": 8,
   "metadata": {
    "collapsed": false
   },
   "outputs": [],
   "source": [
    "# Create empty dictionary to hold the objectives and the senses of each\n",
    "# This process is hard-coded and requires some knowledge about the model\n",
    "# that resulted in the dataframe\n",
    "\n",
    "objSenses = {}\n",
    "\n",
    "# Hard-coded manipulations to properly set objSenses (max/min)\n",
    "# 1 for max, and 0 for min\n",
    "\n",
    "for obj in objs:\n",
    "    objSenses[obj] = 0\n",
    "objSenses[\"Northern Spotted Owl Habitat (ha)\"] = 1\n",
    "#objSenses[\"PER\"] = 0\n",
    "#objSenses"
   ]
  },
  {
   "cell_type": "markdown",
   "metadata": {},
   "source": [
    "### Running the algorithm"
   ]
  },
  {
   "cell_type": "code",
   "execution_count": 9,
   "metadata": {
    "collapsed": false
   },
   "outputs": [
    {
     "data": {
      "text/plain": [
       "0.13654458314522833"
      ]
     },
     "execution_count": 9,
     "metadata": {},
     "output_type": "execute_result"
    }
   ],
   "source": [
    "# Compute the binary epsilon indicator\n",
    "\n",
    "\n",
    "# Set this boolean toggle to\n",
    "    # true if you want to normalize the objective space,\n",
    "    # false otherwise\n",
    "normalize = True\n",
    "\n",
    "if normalize:\n",
    "    f1 = maxAllAndNorm(f1,objSenses)\n",
    "    f2 = maxAllAndNorm(f2,objSenses)\n",
    "else:\n",
    "    f1 = maxAll(f1,objSenses)\n",
    "    f2 = maxAll(f2,objSenses)\n",
    "    \n",
    "computeAdditiveBinaryEpsilonIndicator(f1,f2)"
   ]
  },
  {
   "cell_type": "code",
   "execution_count": 10,
   "metadata": {
    "collapsed": false
   },
   "outputs": [
    {
     "data": {
      "text/plain": [
       "0.05736160423470571"
      ]
     },
     "execution_count": 10,
     "metadata": {},
     "output_type": "execute_result"
    }
   ],
   "source": [
    "computeAdditiveBinaryEpsilonIndicator(f2,f1)"
   ]
  },
  {
   "cell_type": "markdown",
   "metadata": {},
   "source": [
    "### Removing dominated solutions"
   ]
  },
  {
   "cell_type": "code",
   "execution_count": 167,
   "metadata": {
    "collapsed": false
   },
   "outputs": [],
   "source": [
    "def removeDominatedSolutions(f):\n",
    "    '''\n",
    "    Given a dataframe of solutions, returns a dataframe with only\n",
    "    nondominated solutions.\n",
    "    \n",
    "    It is assumed that each column is an objective and that all objectives\n",
    "    aim to be maximized.\n",
    "    '''\n",
    "    newf = f\n",
    "\n",
    "    objectives = f.columns.tolist()\n",
    "    \n",
    "    for idx,row in f.iterrows(): # searching for a solution that dominates this one\n",
    "        for idx2,row2 in f.iterrows(): # scanning over all other solutions\n",
    "            if np.all((row[objectives] < row2[objectives])): # if we find a solution that dominates idx,\n",
    "                newf = newf.drop(idx) # then we remove that index from the to-be-returned dataframe\n",
    "                break # and stop searching for a dominating solution\n",
    "            \n",
    "    return newf"
   ]
  }
 ],
 "metadata": {
  "kernelspec": {
   "display_name": "Python 3",
   "language": "python",
   "name": "python3"
  },
  "language_info": {
   "codemirror_mode": {
    "name": "ipython",
    "version": 3
   },
   "file_extension": ".py",
   "mimetype": "text/x-python",
   "name": "python",
   "nbconvert_exporter": "python",
   "pygments_lexer": "ipython3",
   "version": "3.4.4"
  }
 },
 "nbformat": 4,
 "nbformat_minor": 0
}
