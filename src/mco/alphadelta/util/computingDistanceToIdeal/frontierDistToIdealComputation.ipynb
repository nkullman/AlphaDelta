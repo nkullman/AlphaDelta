{
 "cells": [
  {
   "cell_type": "markdown",
   "metadata": {},
   "source": [
    "# Computing the volume underneath a Pareto frontier\n",
    "Given a Pareto-optimal frontier of solutions to a multi-criterion optimization model, this program computes the average distance from frontier points to the model's ideal solution. This provides a measure of the conflict among the objectives."
   ]
  },
  {
   "cell_type": "code",
   "execution_count": 1,
   "metadata": {
    "collapsed": true
   },
   "outputs": [],
   "source": [
    "import pandas as pd\n",
    "import numpy as np"
   ]
  },
  {
   "cell_type": "markdown",
   "metadata": {},
   "source": [
    "### Preparation for volume computation algorithm"
   ]
  },
  {
   "cell_type": "code",
   "execution_count": 2,
   "metadata": {
    "collapsed": false
   },
   "outputs": [],
   "source": [
    "# Get the solutions that define the pareto frontier.\n",
    "# It is assumed that these frontiers do not contain any dominated solutions\n",
    "# (that is, that the solutions are truly Pareto optimal)\n",
    "\n",
    "sols = pd.read_csv(\"../solutionSets/3d/climateChange_EfficientSolutions_NoneOnly.csv\")"
   ]
  },
  {
   "cell_type": "code",
   "execution_count": 3,
   "metadata": {
    "collapsed": false
   },
   "outputs": [],
   "source": [
    "# Hard-coded manipulations to tidy-up sols\n",
    "\n",
    "sols = sols.drop([\"SolutionIndex\",\"Frontier\"],axis=1) #remove solution index and frontier columns"
   ]
  },
  {
   "cell_type": "code",
   "execution_count": 4,
   "metadata": {
    "collapsed": false
   },
   "outputs": [],
   "source": [
    "# Get list of objectives from the dataframe\n",
    "\n",
    "objs = sols.columns.tolist()"
   ]
  },
  {
   "cell_type": "code",
   "execution_count": 5,
   "metadata": {
    "collapsed": true
   },
   "outputs": [],
   "source": [
    "# Create empty dictionary to hold the objectives and the senses of each\n",
    "# This process is hard-coded and requires some knowledge about the model\n",
    "# that resulted in the sols dataframe\n",
    "\n",
    "objSenses = {}"
   ]
  },
  {
   "cell_type": "code",
   "execution_count": 6,
   "metadata": {
    "collapsed": false
   },
   "outputs": [],
   "source": [
    "# Hard-coded manipulations to properly set objSenses (max/min)\n",
    "# 1 for max, and 0 for min\n",
    "\n",
    "for obj in objs:\n",
    "    objSenses[obj] = 0 # all objectives are min for curr example\n",
    "objSenses[\"Northern Spotted Owl Habitat (ha)\"] = 1 #except owl"
   ]
  },
  {
   "cell_type": "code",
   "execution_count": 7,
   "metadata": {
    "collapsed": false
   },
   "outputs": [],
   "source": [
    "# Get the objectives' bounds\n",
    "\n",
    "objBounds = {}\n",
    "for obj,sense in objSenses.items():\n",
    "    objBounds[obj] = [sols[obj].min(),sols[obj].max()]"
   ]
  },
  {
   "cell_type": "code",
   "execution_count": 8,
   "metadata": {
    "collapsed": false
   },
   "outputs": [],
   "source": [
    "# Get each objective's ideal value\n",
    "\n",
    "idealObjVals = {}\n",
    "for obj,bounds in objBounds.items():\n",
    "    idealObjVals[obj] = bounds[objSenses[obj]] # 0th entry of bounds is min, 1st is max"
   ]
  },
  {
   "cell_type": "code",
   "execution_count": 9,
   "metadata": {
    "collapsed": false
   },
   "outputs": [],
   "source": [
    "# Get each objective's worst value\n",
    "\n",
    "worstObjVals = {}\n",
    "for obj,bounds in objBounds.items():\n",
    "    worstObjVals[obj] = bounds[not(objSenses[obj])]"
   ]
  },
  {
   "cell_type": "code",
   "execution_count": 10,
   "metadata": {
    "collapsed": true
   },
   "outputs": [],
   "source": [
    "# Compute the non-normalized volume of the objective space\n",
    "\n",
    "objSpaceVolume_nonNorm = 1\n",
    "for obj,bounds in objBounds.items():\n",
    "    objSpaceVolume_nonNorm *= bounds[1] - bounds[0]"
   ]
  },
  {
   "cell_type": "code",
   "execution_count": 11,
   "metadata": {
    "collapsed": false
   },
   "outputs": [],
   "source": [
    "# Normalize the objective space by converting each value to the relative achievement along its axis:\n",
    "\n",
    "#   distance from the worst case value\n",
    "# ---------------------------------------\n",
    "# total distance spanned by the objective\n",
    "\n",
    "# Objective space is now in [0,1]^N where N is number of objectives\n",
    "\n",
    "\n",
    "for obj,bounds in objBounds.items():\n",
    "    sols[obj] = sols[obj].apply(\n",
    "        lambda x: \\\n",
    "        abs(x - worstObjVals[obj]) / \\\n",
    "        (bounds[1]-bounds[0]))"
   ]
  },
  {
   "cell_type": "markdown",
   "metadata": {},
   "source": [
    "### Computing the frontier's average distance to ideal solution"
   ]
  },
  {
   "cell_type": "code",
   "execution_count": 34,
   "metadata": {
    "collapsed": true
   },
   "outputs": [],
   "source": [
    "# Define the ideal solution\n",
    "\n",
    "idealSolution = np.ones(len(objs))"
   ]
  },
  {
   "cell_type": "code",
   "execution_count": 35,
   "metadata": {
    "collapsed": true
   },
   "outputs": [],
   "source": [
    "# Initialize average distance to ideal\n",
    "\n",
    "frontierAvgDist= 0"
   ]
  },
  {
   "cell_type": "code",
   "execution_count": 36,
   "metadata": {
    "collapsed": false
   },
   "outputs": [],
   "source": [
    "# Compute average distance\n",
    "\n",
    "for solution in sols.itertuples(index=False,name=None):\n",
    "    frontierAvgDist += np.linalg.norm(solution - idealSolution)\n",
    "    \n",
    "frontierAvgDist /= len(sols)"
   ]
  }
 ],
 "metadata": {
  "kernelspec": {
   "display_name": "Python 2",
   "language": "python",
   "name": "python2"
  },
  "language_info": {
   "codemirror_mode": {
    "name": "ipython",
    "version": 2
   },
   "file_extension": ".py",
   "mimetype": "text/x-python",
   "name": "python",
   "nbconvert_exporter": "python",
   "pygments_lexer": "ipython2",
   "version": "2.7.9"
  }
 },
 "nbformat": 4,
 "nbformat_minor": 0
}
