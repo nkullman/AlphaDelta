{
 "cells": [
  {
   "cell_type": "markdown",
   "metadata": {},
   "source": [
    "# Computing the distance to the ideal solution\n",
    "Given a Pareto-optimal frontier of solutions to a multi-criterion optimization model, this program computes the average distance from frontier points to the model's ideal solution. This provides a measure of the conflict among the objectives."
   ]
  },
  {
   "cell_type": "code",
   "execution_count": 24,
   "metadata": {
    "collapsed": true
   },
   "outputs": [],
   "source": [
    "import pandas as pd\n",
    "import numpy as np"
   ]
  },
  {
   "cell_type": "markdown",
   "metadata": {},
   "source": [
    "### Preparation for volume computation algorithm"
   ]
  },
  {
   "cell_type": "code",
   "execution_count": 45,
   "metadata": {
    "collapsed": false
   },
   "outputs": [],
   "source": [
    "# Get the solutions that define the pareto frontier.\n",
    "# It is assumed that these frontiers do not contain any dominated solutions\n",
    "# (that is, that the solutions are truly Pareto optimal)\n",
    "\n",
    "sols = pd.read_csv(\"../solutionSets/3d/ClimateChange_E85/climateChange_EfficientSolutions_E85.csv\")"
   ]
  },
  {
   "cell_type": "code",
   "execution_count": 46,
   "metadata": {
    "collapsed": false
   },
   "outputs": [],
   "source": [
    "# Hard-coded manipulations to tidy-up sols\n",
    "\n",
    "sols = sols.drop([\"SolutionIndex\",\"Frontier\"],axis=1) #remove solution index and frontier columns (climate change sets)\n",
    "#sols = sols.drop([\"SolutionIndex\"],axis=1) #remove solution index column (pack forest and Chilean sets)\n",
    "# nothing for some sets (toth mcDill, small sed fire)"
   ]
  },
  {
   "cell_type": "code",
   "execution_count": 47,
   "metadata": {
    "collapsed": false
   },
   "outputs": [],
   "source": [
    "# Get list of objectives from the dataframe\n",
    "\n",
    "objs = sols.columns.tolist()"
   ]
  },
  {
   "cell_type": "code",
   "execution_count": 48,
   "metadata": {
    "collapsed": true
   },
   "outputs": [],
   "source": [
    "# Create empty dictionary to hold the objectives and the senses of each\n",
    "# This process is hard-coded and requires some knowledge about the model\n",
    "# that resulted in the dataframe\n",
    "\n",
    "objSenses = {}\n",
    "\n",
    "# Hard-coded manipulations to properly set objSenses (max/min)\n",
    "# 1 for max, and 0 for min\n",
    "\n",
    "for obj in objs:\n",
    "    objSenses[obj] = 0\n",
    "objSenses[\"Northern Spotted Owl Habitat (ha)\"] = 1\n",
    "#objSenses[\"PER\"] = 0\n",
    "#objSenses"
   ]
  },
  {
   "cell_type": "code",
   "execution_count": 49,
   "metadata": {
    "collapsed": false
   },
   "outputs": [],
   "source": [
    "def maxAll(origf,objSenses):\n",
    "    \n",
    "    f = origf\n",
    "    \n",
    "    # get bounds on the objectives' values\n",
    "    objBounds = {}\n",
    "    for obj,sense in objSenses.items():\n",
    "        objBounds[obj] = [f[obj].min(),f[obj].max()]\n",
    "    # get each objective's ideal value\n",
    "    idealObjVals = {}\n",
    "    for obj,bounds in objBounds.items():\n",
    "        idealObjVals[obj] = bounds[objSenses[obj]] # 0th entry of bounds is min, 1st is max\n",
    "    # get each objective's worst value\n",
    "    worstObjVals = {}\n",
    "    for obj,bounds in objBounds.items():\n",
    "        worstObjVals[obj] = bounds[not(objSenses[obj])]\n",
    "        \n",
    "    # Convert each objective to a maximization\n",
    "\n",
    "    for obj,bounds in objBounds.items():\n",
    "        f[obj] = f[obj].apply(\n",
    "            lambda x: \\\n",
    "            abs(x - worstObjVals[obj]))\n",
    "    \n",
    "    return f"
   ]
  },
  {
   "cell_type": "code",
   "execution_count": 50,
   "metadata": {
    "collapsed": false
   },
   "outputs": [],
   "source": [
    "def maxAllAndNorm(origf,objSenses):\n",
    "    \n",
    "    f = origf\n",
    "    \n",
    "    # get bounds on the objectives' values\n",
    "    objBounds = {}\n",
    "    for obj,sense in objSenses.items():\n",
    "        objBounds[obj] = [f[obj].min(),f[obj].max()]\n",
    "    # get each objective's ideal value\n",
    "    idealObjVals = {}\n",
    "    for obj,bounds in objBounds.items():\n",
    "        idealObjVals[obj] = bounds[objSenses[obj]] # 0th entry of bounds is min, 1st is max\n",
    "    # get each objective's worst value\n",
    "    worstObjVals = {}\n",
    "    for obj,bounds in objBounds.items():\n",
    "        worstObjVals[obj] = bounds[not(objSenses[obj])]\n",
    "        \n",
    "    # Normalize the objective spaces by converting each value to the relative achievement along its axis:\n",
    "\n",
    "    #   distance from the worst case value\n",
    "    # ---------------------------------------\n",
    "    # total distance spanned by the objective\n",
    "\n",
    "    # Normalized objective space is in [0,1]^N where N = # of objectives\n",
    "\n",
    "\n",
    "    for obj,bounds in objBounds.items():\n",
    "        f[obj] = f[obj].apply(\n",
    "            lambda x: \\\n",
    "            abs(x - worstObjVals[obj]) / \\\n",
    "            (bounds[1]-bounds[0]))\n",
    "    \n",
    "    return f"
   ]
  },
  {
   "cell_type": "markdown",
   "metadata": {},
   "source": [
    "### Computing the frontier's average distance to ideal solution"
   ]
  },
  {
   "cell_type": "code",
   "execution_count": 51,
   "metadata": {
    "collapsed": true
   },
   "outputs": [],
   "source": [
    "# Convert and normalize the data\n",
    "# Define the ideal solution\n",
    "\n",
    "normalize = False\n",
    "\n",
    "if normalize:\n",
    "    sols = maxAllAndNorm(sols,objSenses)\n",
    "    idealSolution = np.ones(len(objs))\n",
    "else:\n",
    "    sols = maxAll(sols,objSenses)\n",
    "    idealSolution = np.asarray([max(sols[obj]) for obj in objs])"
   ]
  },
  {
   "cell_type": "code",
   "execution_count": 52,
   "metadata": {
    "collapsed": true
   },
   "outputs": [],
   "source": [
    "# Initialize average distance to ideal\n",
    "\n",
    "frontierAvgDist= 0"
   ]
  },
  {
   "cell_type": "code",
   "execution_count": 53,
   "metadata": {
    "collapsed": false
   },
   "outputs": [],
   "source": [
    "# Compute average distance\n",
    "\n",
    "for solution in sols.itertuples(index=False,name=None):\n",
    "    frontierAvgDist += np.linalg.norm(solution - idealSolution)\n",
    "    \n",
    "frontierAvgDist /= len(sols)"
   ]
  },
  {
   "cell_type": "code",
   "execution_count": 54,
   "metadata": {
    "collapsed": false
   },
   "outputs": [
    {
     "data": {
      "text/plain": [
       "337.86821059276934"
      ]
     },
     "execution_count": 54,
     "metadata": {},
     "output_type": "execute_result"
    }
   ],
   "source": [
    "frontierAvgDist"
   ]
  },
  {
   "cell_type": "code",
   "execution_count": null,
   "metadata": {
    "collapsed": false
   },
   "outputs": [],
   "source": []
  }
 ],
 "metadata": {
  "kernelspec": {
   "display_name": "Python 3",
   "language": "python",
   "name": "python3"
  },
  "language_info": {
   "codemirror_mode": {
    "name": "ipython",
    "version": 3
   },
   "file_extension": ".py",
   "mimetype": "text/x-python",
   "name": "python",
   "nbconvert_exporter": "python",
   "pygments_lexer": "ipython3",
   "version": "3.4.4"
  }
 },
 "nbformat": 4,
 "nbformat_minor": 0
}
