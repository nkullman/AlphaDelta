{
 "cells": [
  {
   "cell_type": "markdown",
   "metadata": {},
   "source": [
    "# Computing the volume underneath a Pareto frontier\n",
    "Given a Pareto-optimal frontier of solutions to a multi-criterion optimization model, this program computes the Pearson correlation coefficients between each pair of objectives. This provides a measure of the conflict among the objectives."
   ]
  },
  {
   "cell_type": "code",
   "execution_count": 2,
   "metadata": {
    "collapsed": false
   },
   "outputs": [],
   "source": [
    "import pandas as pd\n",
    "import numpy as np\n",
    "import itertools"
   ]
  },
  {
   "cell_type": "markdown",
   "metadata": {},
   "source": [
    "### Prepocess data and normalize the objective space"
   ]
  },
  {
   "cell_type": "code",
   "execution_count": 57,
   "metadata": {
    "collapsed": false
   },
   "outputs": [],
   "source": [
    "# Get the solutions that define the pareto frontier.\n",
    "# It is assumed that these frontiers do not contain any dominated solutions\n",
    "# (that is, that the solutions are truly Pareto optimal)\n",
    "\n",
    "sols = pd.read_csv(\"../solutionSets/3d/ClimateChange_None/climateChange_EfficientSolutions_NoneOnly.csv\")"
   ]
  },
  {
   "cell_type": "code",
   "execution_count": 58,
   "metadata": {
    "collapsed": false
   },
   "outputs": [],
   "source": [
    "# Hard-coded manipulations to tidy-up sols\n",
    "\n",
    "sols = sols.drop([\"SolutionIndex\",\"Frontier\"],axis=1) #remove solution index and frontier columns (climate change sets)\n",
    "#sols = sols.drop([\"SolutionIndex\"],axis=1) #remove solution index column (pack forest and Chilean sets and portfolio opt)\n",
    "# nothing for some sets (toth mcDill, small sed fire)"
   ]
  },
  {
   "cell_type": "code",
   "execution_count": 59,
   "metadata": {
    "collapsed": false
   },
   "outputs": [],
   "source": [
    "# Get list of objectives from the dataframe\n",
    "\n",
    "objs = sols.columns.tolist()"
   ]
  },
  {
   "cell_type": "code",
   "execution_count": 60,
   "metadata": {
    "collapsed": false
   },
   "outputs": [],
   "source": [
    "# Create empty dictionary to hold the objectives and the senses of each\n",
    "# This process is hard-coded and requires some knowledge about the model\n",
    "# that resulted in the sols dataframe\n",
    "\n",
    "objSenses = {}"
   ]
  },
  {
   "cell_type": "code",
   "execution_count": 61,
   "metadata": {
    "collapsed": false
   },
   "outputs": [],
   "source": [
    "# Hard-coded manipulations to properly set objSenses (max/min)\n",
    "# 1 for max, and 0 for min\n",
    "\n",
    "for obj in objs:\n",
    "    objSenses[obj] = 0\n",
    "objSenses[\"Northern Spotted Owl Habitat (ha)\"] = 0 #for climate change sets (all others 0)\n",
    "#objSenses[\"PER\"] = 0 # for tothMcDill set (all others 1)\n",
    "#objSenses['MaxSediment'] = 0\n",
    "#objSenses[\" Risk\"] = 0\n",
    "#All 1 for PackForest sets and Chilean reserve"
   ]
  },
  {
   "cell_type": "code",
   "execution_count": 62,
   "metadata": {
    "collapsed": false
   },
   "outputs": [],
   "source": [
    "# Get the objectives' bounds\n",
    "\n",
    "objBounds = {}\n",
    "for obj,sense in objSenses.items():\n",
    "    objBounds[obj] = [sols[obj].min(),sols[obj].max()]"
   ]
  },
  {
   "cell_type": "code",
   "execution_count": 63,
   "metadata": {
    "collapsed": false
   },
   "outputs": [],
   "source": [
    "# Get each objective's ideal value\n",
    "\n",
    "idealObjVals = {}\n",
    "for obj,bounds in objBounds.items():\n",
    "    idealObjVals[obj] = bounds[objSenses[obj]] # 0th entry of bounds is min, 1st is max"
   ]
  },
  {
   "cell_type": "code",
   "execution_count": 64,
   "metadata": {
    "collapsed": false
   },
   "outputs": [],
   "source": [
    "# Get each objective's worst value\n",
    "\n",
    "worstObjVals = {}\n",
    "for obj,bounds in objBounds.items():\n",
    "    worstObjVals[obj] = bounds[not(objSenses[obj])]"
   ]
  },
  {
   "cell_type": "code",
   "execution_count": 65,
   "metadata": {
    "collapsed": true
   },
   "outputs": [],
   "source": [
    "# Compute the non-normalized volume of the objective space\n",
    "\n",
    "objSpaceVolume_nonNorm = 1\n",
    "for obj,bounds in objBounds.items():\n",
    "    objSpaceVolume_nonNorm *= bounds[1] - bounds[0]"
   ]
  },
  {
   "cell_type": "code",
   "execution_count": 66,
   "metadata": {
    "collapsed": false
   },
   "outputs": [],
   "source": [
    "# Normalize the objective space by converting each value to the relative achievement along its axis:\n",
    "\n",
    "#   distance from the worst case value\n",
    "# ---------------------------------------\n",
    "# total distance spanned by the objective\n",
    "\n",
    "# Objective space is now in [0,1]^N where N is number of objectives\n",
    "\n",
    "\n",
    "for obj,bounds in objBounds.items():\n",
    "    sols[obj] = sols[obj].apply(\n",
    "        lambda x: \\\n",
    "        abs(x - worstObjVals[obj]) / \\\n",
    "        (bounds[1]-bounds[0]))"
   ]
  },
  {
   "cell_type": "markdown",
   "metadata": {},
   "source": [
    "### Computing the spacing of solutions along the frontier"
   ]
  },
  {
   "cell_type": "code",
   "execution_count": 67,
   "metadata": {
    "collapsed": false
   },
   "outputs": [],
   "source": [
    "# Compute the d_i's and average dbar\n",
    "\n",
    "\n",
    "sols[\"di\"] = np.infty\n",
    "for idx,row in sols.iterrows():\n",
    "    minDist = sols.ix[idx][\"di\"]\n",
    "    for idx2,row2 in sols.iterrows():\n",
    "        if idx2 == idx:\n",
    "            continue\n",
    "        dist = np.linalg.norm(row[objs]-row2[objs])\n",
    "        if dist < minDist:\n",
    "            minDist = dist\n",
    "    sols.set_value(idx,\"di\",minDist)\n",
    "dbar = np.mean(sols[\"di\"])"
   ]
  },
  {
   "cell_type": "code",
   "execution_count": 68,
   "metadata": {
    "collapsed": false
   },
   "outputs": [
    {
     "data": {
      "text/plain": [
       "0.063986660439831852"
      ]
     },
     "execution_count": 68,
     "metadata": {},
     "output_type": "execute_result"
    }
   ],
   "source": [
    "# Compute the spacing metric\n",
    "\n",
    "\n",
    "spacing = np.sqrt(sum(np.power(sols[\"di\"]-dbar,2))/(len(sols)-1))\n",
    "spacing"
   ]
  }
 ],
 "metadata": {
  "kernelspec": {
   "display_name": "Python 3",
   "language": "python",
   "name": "python3"
  },
  "language_info": {
   "codemirror_mode": {
    "name": "ipython",
    "version": 3
   },
   "file_extension": ".py",
   "mimetype": "text/x-python",
   "name": "python",
   "nbconvert_exporter": "python",
   "pygments_lexer": "ipython3",
   "version": "3.4.4"
  }
 },
 "nbformat": 4,
 "nbformat_minor": 0
}
