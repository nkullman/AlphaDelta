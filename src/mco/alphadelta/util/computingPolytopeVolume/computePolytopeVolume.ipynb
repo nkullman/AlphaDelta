{
 "cells": [
  {
   "cell_type": "markdown",
   "metadata": {},
   "source": [
    "#Computing the volume underneath a Pareto frontier\n",
    "This program computes the volume under a frontier of Pareto-optimal solutions to a multi-criterion optimization model. This volume provides a measure of the conflict among the objectives."
   ]
  },
  {
   "cell_type": "code",
   "execution_count": 60,
   "metadata": {
    "collapsed": true
   },
   "outputs": [],
   "source": [
    "import pandas as pd\n",
    "import numpy as np"
   ]
  },
  {
   "cell_type": "markdown",
   "metadata": {},
   "source": [
    "### Preparation for the volume computation algorithm"
   ]
  },
  {
   "cell_type": "code",
   "execution_count": 61,
   "metadata": {
    "collapsed": false
   },
   "outputs": [],
   "source": [
    "# Get the solutions that define the pareto frontier.\n",
    "# It is assumed that these frontiers do not contain any dominated solutions\n",
    "# (that is, that the solutions are truly Pareto optimal)\n",
    "\n",
    "sols = pd.read_csv(\"solutionSets/2d/portfolioOptimization.csv\")"
   ]
  },
  {
   "cell_type": "code",
   "execution_count": 62,
   "metadata": {
    "collapsed": false
   },
   "outputs": [],
   "source": [
    "# Hard-coded manipulations to tidy-up sols\n",
    "\n",
    "sols = sols.drop([\"SolutionIndex\"],axis=1) #remove solution index column"
   ]
  },
  {
   "cell_type": "code",
   "execution_count": 63,
   "metadata": {
    "collapsed": true
   },
   "outputs": [],
   "source": [
    "# Create empty dictionary to hold the objectives and the senses of each\n",
    "# This process is hard-coded and requires some knowledge about the model\n",
    "# that resulted in the sols dataframe\n",
    "\n",
    "objSenses = {}"
   ]
  },
  {
   "cell_type": "code",
   "execution_count": 64,
   "metadata": {
    "collapsed": true
   },
   "outputs": [],
   "source": [
    "# Hard-coded manipulations to properly set objSenses\n",
    "\n",
    "objSenses[\" Return\"] = 1 # set the senses on the objectives\n",
    "objSenses[\" Risk\"] = 0 # 1 for max, and 0 for min"
   ]
  },
  {
   "cell_type": "code",
   "execution_count": 65,
   "metadata": {
    "collapsed": false
   },
   "outputs": [],
   "source": [
    "# Get the objectives' bounds\n",
    "\n",
    "objBounds = {}\n",
    "for obj,sense in objSenses.iteritems():\n",
    "    objBounds[obj] = [sols[obj].min(),sols[obj].max()]"
   ]
  },
  {
   "cell_type": "code",
   "execution_count": 66,
   "metadata": {
    "collapsed": false
   },
   "outputs": [],
   "source": [
    "# Compute the volume of the objective space\n",
    "\n",
    "objSpaceVolume = 1\n",
    "for obj,bounds in objBounds.iteritems():\n",
    "    objSpaceVolume *= bounds[1] - bounds[0]"
   ]
  },
  {
   "cell_type": "code",
   "execution_count": 67,
   "metadata": {
    "collapsed": false
   },
   "outputs": [],
   "source": [
    "# Get the corner of the objective space that defines the ideal solution\n",
    "\n",
    "idealSolution = []\n",
    "for obj,bounds in objBounds.iteritems():\n",
    "    idealSolution.append(bounds[objSenses[obj]])"
   ]
  },
  {
   "cell_type": "code",
   "execution_count": 68,
   "metadata": {
    "collapsed": true
   },
   "outputs": [],
   "source": [
    "# Get the corner of the objective space that defines the worst solution\n",
    "\n",
    "worstSolution = []\n",
    "for obj,bounds in objBounds.iteritems():\n",
    "    worstSolution.append(bounds[not(objSenses[obj])])"
   ]
  },
  {
   "cell_type": "markdown",
   "metadata": {},
   "source": [
    "### Algorithm to compute volume of frontier"
   ]
  },
  {
   "cell_type": "markdown",
   "metadata": {},
   "source": [
    "#### Algorithm 1: \"Add-the-sides\" method\n",
    "(Sandor)"
   ]
  },
  {
   "cell_type": "code",
   "execution_count": 70,
   "metadata": {
    "collapsed": true
   },
   "outputs": [],
   "source": [
    "# V = sum_{i \\in N} A_i z_i\n",
    "# where\n",
    "# A_0 = 0\n",
    "# and\n",
    "# A_i = x_i y_i\n",
    "    # - A_{i-1}\n",
    "    # + \\sum_{j<i : x_j > x_i} y_j \\left[ x_j - \\max_{l \\le i}\\{x_l : x_l < x_j \\} \\right]\n",
    "    # + \\sum_{j<i : y_j > y_i} x_j \\left[ y_j - \\max_{k \\le i}\\{y_k : y_k < y_j \\} \\right]"
   ]
  },
  {
   "cell_type": "markdown",
   "metadata": {},
   "source": [
    "#### Algorithm 2: \"Subtract-the-middle\" method\n",
    "(Nick) "
   ]
  },
  {
   "cell_type": "code",
   "execution_count": null,
   "metadata": {
    "collapsed": true
   },
   "outputs": [],
   "source": [
    "# V = sum_{i \\in N} A_i z_i\n",
    "# where\n",
    "# A_0 = 0\n",
    "# and\n",
    "# A_i = x_i y_i\n",
    "    # - \\sum_{s \\in S_*} \\min(x_*,x_s) \\Delta_{y_s,y_{s-1}}\n",
    "    # - x_{N^*} \\left( y_* - \\max_s\\{ y_s : s \\in S_* \\} \\right)"
   ]
  },
  {
   "cell_type": "markdown",
   "metadata": {},
   "source": [
    "#### Algorithm 3: \"Sort-first\" method\n",
    "(no one yet)"
   ]
  },
  {
   "cell_type": "code",
   "execution_count": null,
   "metadata": {
    "collapsed": true
   },
   "outputs": [],
   "source": [
    "# Sort objectives in some descending order, should simplify how to add N-1 dimensioned component of the solution,\n",
    "# then multiply by value in Nth dimension to get contribution to polytope volume"
   ]
  }
 ],
 "metadata": {
  "kernelspec": {
   "display_name": "Python 2",
   "language": "python",
   "name": "python2"
  },
  "language_info": {
   "codemirror_mode": {
    "name": "ipython",
    "version": 2
   },
   "file_extension": ".py",
   "mimetype": "text/x-python",
   "name": "python",
   "nbconvert_exporter": "python",
   "pygments_lexer": "ipython2",
   "version": "2.7.11"
  }
 },
 "nbformat": 4,
 "nbformat_minor": 0
}
