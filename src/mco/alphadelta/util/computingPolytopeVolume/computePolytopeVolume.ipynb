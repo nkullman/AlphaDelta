{
 "cells": [
  {
   "cell_type": "markdown",
   "metadata": {},
   "source": [
    "#Computing the volume underneath a Pareto frontier\n",
    "This program computes the volume under a frontier of Pareto-optimal solutions to a multi-criterion optimization model. This volume provides a measure of the conflict among the objectives."
   ]
  },
  {
   "cell_type": "code",
   "execution_count": 60,
   "metadata": {
    "collapsed": true
   },
   "outputs": [],
   "source": [
    "import pandas as pd\n",
    "import numpy as np"
   ]
  },
  {
   "cell_type": "markdown",
   "metadata": {},
   "source": [
    "### Preparation for the volume computation algorithm"
   ]
  },
  {
   "cell_type": "code",
   "execution_count": 221,
   "metadata": {
    "collapsed": false
   },
   "outputs": [],
   "source": [
    "# Get the solutions that define the pareto frontier.\n",
    "# It is assumed that these frontiers do not contain any dominated solutions\n",
    "# (that is, that the solutions are truly Pareto optimal)\n",
    "\n",
    "sols = pd.read_csv(\"solutionSets/3d/OptimalSolutions_2014XchgRate.csv\")"
   ]
  },
  {
   "cell_type": "code",
   "execution_count": 222,
   "metadata": {
    "collapsed": false
   },
   "outputs": [],
   "source": [
    "# Hard-coded manipulations to tidy-up sols\n",
    "\n",
    "sols = sols.drop([\"SolutionIndex\"],axis=1) #remove solution index column"
   ]
  },
  {
   "cell_type": "code",
   "execution_count": 223,
   "metadata": {
    "collapsed": false
   },
   "outputs": [],
   "source": [
    "# Get list of objectives from the dataframe\n",
    "\n",
    "objs = sols.columns.tolist()"
   ]
  },
  {
   "cell_type": "code",
   "execution_count": 224,
   "metadata": {
    "collapsed": true
   },
   "outputs": [],
   "source": [
    "# Create empty dictionary to hold the objectives and the senses of each\n",
    "# This process is hard-coded and requires some knowledge about the model\n",
    "# that resulted in the sols dataframe\n",
    "\n",
    "objSenses = {}"
   ]
  },
  {
   "cell_type": "code",
   "execution_count": 225,
   "metadata": {
    "collapsed": false
   },
   "outputs": [],
   "source": [
    "# Hard-coded manipulations to properly set objSenses (max/min)\n",
    "# 1 for max, and 0 for min\n",
    "\n",
    "for obj in objs:\n",
    "    objSenses[obj] = 1 # all objectives are max for curr example\n",
    "#objSenses[\" Risk\"] = 0"
   ]
  },
  {
   "cell_type": "code",
   "execution_count": 227,
   "metadata": {
    "collapsed": false
   },
   "outputs": [],
   "source": [
    "# Get the objectives' bounds\n",
    "\n",
    "objBounds = {}\n",
    "for obj,sense in objSenses.iteritems():\n",
    "    objBounds[obj] = [sols[obj].min(),sols[obj].max()]"
   ]
  },
  {
   "cell_type": "code",
   "execution_count": 228,
   "metadata": {
    "collapsed": false
   },
   "outputs": [],
   "source": [
    "# Get each objective's ideal value\n",
    "\n",
    "idealObjVals = {}\n",
    "for obj,bounds in objBounds.iteritems():\n",
    "    idealObjVals[obj] = bounds[objSenses[obj]] # 0th entry of bounds is min, 1st is max"
   ]
  },
  {
   "cell_type": "code",
   "execution_count": 229,
   "metadata": {
    "collapsed": false
   },
   "outputs": [],
   "source": [
    "# Get each objective's worst value\n",
    "\n",
    "worstObjVals = {}\n",
    "for obj,bounds in objBounds.iteritems():\n",
    "    worstObjVals[obj] = bounds[not(objSenses[obj])]"
   ]
  },
  {
   "cell_type": "code",
   "execution_count": 230,
   "metadata": {
    "collapsed": true
   },
   "outputs": [],
   "source": [
    "# Compute the non-normalized volume of the objective space\n",
    "\n",
    "objSpaceVolume_nonNorm = 1\n",
    "for obj,bounds in objBounds.iteritems():\n",
    "    objSpaceVolume_nonNorm *= bounds[1] - bounds[0]"
   ]
  },
  {
   "cell_type": "code",
   "execution_count": 231,
   "metadata": {
    "collapsed": false
   },
   "outputs": [],
   "source": [
    "# Normalize the objective space by converting each value to the relative achievement along its axis:\n",
    "\n",
    "#   distance from the worst case value\n",
    "# ---------------------------------------\n",
    "# total distance spanned by the objective\n",
    "\n",
    "# Objective space is now in [0,1]^N (N is number of objectives)\n",
    "\n",
    "\n",
    "for obj,bounds in objBounds.iteritems():\n",
    "    sols[obj] = sols[obj].apply(\n",
    "        lambda x: \\\n",
    "        abs(x - worstObjVals[obj]) / \\\n",
    "        (bounds[1]-bounds[0]))"
   ]
  },
  {
   "cell_type": "markdown",
   "metadata": {},
   "source": [
    "### Algorithm to compute volume of frontier"
   ]
  },
  {
   "cell_type": "markdown",
   "metadata": {},
   "source": [
    "#### Algorithm 1: \"Add-the-sides\" method\n",
    "(Sandor)"
   ]
  },
  {
   "cell_type": "code",
   "execution_count": 232,
   "metadata": {
    "collapsed": true
   },
   "outputs": [],
   "source": [
    "# V = sum_{i \\in N} A_i z_i\n",
    "# where\n",
    "# A_0 = 0\n",
    "# and\n",
    "# A_i = x_i y_i\n",
    "    # - A_{i-1}\n",
    "    # + \\sum_{j<i : x_j > x_i} y_j \\left[ x_j - \\max_{l \\le i}\\{x_l : x_l < x_j \\} \\right]\n",
    "    # + \\sum_{j<i : y_j > y_i} x_j \\left[ y_j - \\max_{k \\le i}\\{y_k : y_k < y_j \\} \\right]\n",
    "    \n",
    "# Have not yet generalized to N dimensions"
   ]
  },
  {
   "cell_type": "code",
   "execution_count": null,
   "metadata": {
    "collapsed": false
   },
   "outputs": [],
   "source": []
  },
  {
   "cell_type": "markdown",
   "metadata": {},
   "source": [
    "#### Algorithm 2: \"Subtract-the-middle\" method\n",
    "(Nick) "
   ]
  },
  {
   "cell_type": "code",
   "execution_count": 233,
   "metadata": {
    "collapsed": true
   },
   "outputs": [],
   "source": [
    "# Initialize frontier volume\n",
    "\n",
    "frontierVolume = 0"
   ]
  },
  {
   "cell_type": "code",
   "execution_count": 234,
   "metadata": {
    "collapsed": true
   },
   "outputs": [],
   "source": [
    "# Initialize the array of solutions' (N-1)-dimensional volume contributions\n",
    "\n",
    "volContributions = {}"
   ]
  },
  {
   "cell_type": "code",
   "execution_count": 235,
   "metadata": {
    "collapsed": true
   },
   "outputs": [],
   "source": [
    "# Old method sketch:\n",
    "# V = sum_{i \\in N} A_i z_i\n",
    "# where\n",
    "# A_0 = 0\n",
    "# and\n",
    "# A_i = x_i y_i\n",
    "    # - \\sum_{s \\in S_*} \\min(x_*,x_s) \\Delta_{y_s,y_{s-1}}\n",
    "    # - x_{N^*} \\left( y_* - \\max_s\\{ y_s : s \\in S_* \\} \\right)"
   ]
  },
  {
   "cell_type": "code",
   "execution_count": 236,
   "metadata": {
    "collapsed": false
   },
   "outputs": [],
   "source": [
    "# Sort the dataframe in descending order from first column\n",
    "\n",
    "sols = sols.sort_values(by=[objs[0]],ascending=False)"
   ]
  },
  {
   "cell_type": "code",
   "execution_count": 238,
   "metadata": {
    "collapsed": false
   },
   "outputs": [
    {
     "data": {
      "text/plain": [
       "[' ECT', ' FV']"
      ]
     },
     "execution_count": 238,
     "metadata": {},
     "output_type": "execute_result"
    }
   ],
   "source": [
    "# Get list of all non-primary dimensions\n",
    "\n",
    "dims_secondary = [col for col in sols.columns if col not in [objs[0]]]\n",
    "dims_secondary"
   ]
  },
  {
   "cell_type": "code",
   "execution_count": 253,
   "metadata": {
    "collapsed": false
   },
   "outputs": [],
   "source": [
    "# Compute the volume\n",
    "\n",
    "# For each solution...\n",
    "for idx,row in sols.iterrows():\n",
    "    \n",
    "    # get its N-1 dimensional contribution, currently including overlap\n",
    "    contribution = row[dims_secondary].product()\n",
    "    \n",
    "    # Subtract away the contributions from solutions whose (N-1)-dimensional volumes are completely enclosed\n",
    "    # within the (N-1)-dimensional space created by the current solution\n",
    "    \n",
    "    # Get the solutions whose N-1 dimensional volumes are completely contained within this solution's N-1 dimensional space\n",
    "    enclosedSols = {k: v for k, v in volContributions.iteritems() if (sols[dims_secondary].ix[k] < row[dims_secondary]).all()}\n",
    "    # Subtract away the contributions from each of those solutions\n",
    "    for soln,contrib in enclosedSols.iteritems():\n",
    "        contribution -= contrib\n",
    "        \n",
    "    # Subtract away the trimmings from the nearest neighbors in each secondary dimension"
   ]
  },
  {
   "cell_type": "code",
   "execution_count": null,
   "metadata": {
    "collapsed": true
   },
   "outputs": [],
   "source": [
    "sols"
   ]
  }
 ],
 "metadata": {
  "kernelspec": {
   "display_name": "Python 3",
   "language": "python",
   "name": "python3"
  },
  "language_info": {
   "codemirror_mode": {
    "name": "ipython",
    "version": 3
   },
   "file_extension": ".py",
   "mimetype": "text/x-python",
   "name": "python",
   "nbconvert_exporter": "python",
   "pygments_lexer": "ipython3",
   "version": "3.4.4"
  }
 },
 "nbformat": 4,
 "nbformat_minor": 0
}
