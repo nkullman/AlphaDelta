{
 "cells": [
  {
   "cell_type": "markdown",
   "metadata": {},
   "source": [
    "# Finding the volume of a Pareto frontier\n",
    "Given a Pareto front, calculates the volume \"underneath\" the frontier (towards the ideal solution)"
   ]
  },
  {
   "cell_type": "markdown",
   "metadata": {},
   "source": [
    "### Pre-processing"
   ]
  },
  {
   "cell_type": "code",
   "execution_count": 46,
   "metadata": {
    "collapsed": true
   },
   "outputs": [],
   "source": [
    "# similar steps to other ipynb.\n",
    "# except instead of trying to come up with exact volume computation,\n",
    "# just simulate. And see how many points (simulations) it takes to stabilize (to get vol)"
   ]
  },
  {
   "cell_type": "code",
   "execution_count": 47,
   "metadata": {
    "collapsed": true
   },
   "outputs": [],
   "source": [
    "import pandas as pd\n",
    "import numpy as np"
   ]
  },
  {
   "cell_type": "code",
   "execution_count": 48,
   "metadata": {
    "collapsed": true
   },
   "outputs": [],
   "source": [
    "# Get the solutions that define the pareto frontier.\n",
    "# It is assumed that these frontiers do not contain any dominated solutions\n",
    "# (that is, that the solutions are truly Pareto optimal)\n",
    "\n",
    "sols = pd.read_csv(\"solutionSets/3d/OptimalSolutions_2014XchgRate.csv\")"
   ]
  },
  {
   "cell_type": "code",
   "execution_count": 49,
   "metadata": {
    "collapsed": true
   },
   "outputs": [],
   "source": [
    "# Hard-coded manipulations to tidy-up sols\n",
    "\n",
    "sols = sols.drop([\"SolutionIndex\"],axis=1) #remove solution index column"
   ]
  },
  {
   "cell_type": "code",
   "execution_count": 50,
   "metadata": {
    "collapsed": true
   },
   "outputs": [],
   "source": [
    "# Get list of objectives from the dataframe\n",
    "\n",
    "objs = sols.columns.tolist()"
   ]
  },
  {
   "cell_type": "code",
   "execution_count": 51,
   "metadata": {
    "collapsed": true
   },
   "outputs": [],
   "source": [
    "# Create empty dictionary to hold the objectives and the senses of each\n",
    "# This process is hard-coded and requires some knowledge about the model\n",
    "# that resulted in the sols dataframe\n",
    "\n",
    "objSenses = {}"
   ]
  },
  {
   "cell_type": "code",
   "execution_count": 52,
   "metadata": {
    "collapsed": true
   },
   "outputs": [],
   "source": [
    "# Hard-coded manipulations to properly set objSenses (max/min)\n",
    "# 1 for max, and 0 for min\n",
    "\n",
    "for obj in objs:\n",
    "    objSenses[obj] = 1 # all objectives are max for curr example"
   ]
  },
  {
   "cell_type": "code",
   "execution_count": 53,
   "metadata": {
    "collapsed": false
   },
   "outputs": [],
   "source": [
    "# Get the objectives' bounds\n",
    "\n",
    "objBounds = {}\n",
    "for obj,sense in objSenses.items():\n",
    "    objBounds[obj] = [sols[obj].min(),sols[obj].max()]"
   ]
  },
  {
   "cell_type": "code",
   "execution_count": 54,
   "metadata": {
    "collapsed": true
   },
   "outputs": [],
   "source": [
    "# Get each objective's ideal value\n",
    "\n",
    "idealObjVals = {}\n",
    "for obj,bounds in objBounds.items():\n",
    "    idealObjVals[obj] = bounds[objSenses[obj]] # 0th entry of bounds is min, 1st is max"
   ]
  },
  {
   "cell_type": "code",
   "execution_count": 55,
   "metadata": {
    "collapsed": false
   },
   "outputs": [],
   "source": [
    "# Get each objective's worst value\n",
    "\n",
    "worstObjVals = {}\n",
    "for obj,bounds in objBounds.items():\n",
    "    worstObjVals[obj] = bounds[not(objSenses[obj])]"
   ]
  },
  {
   "cell_type": "code",
   "execution_count": 56,
   "metadata": {
    "collapsed": true
   },
   "outputs": [],
   "source": [
    "# Compute the non-normalized volume of the objective space\n",
    "\n",
    "objSpaceVolume_nonNorm = 1\n",
    "for obj,bounds in objBounds.items():\n",
    "    objSpaceVolume_nonNorm *= bounds[1] - bounds[0]"
   ]
  },
  {
   "cell_type": "code",
   "execution_count": 57,
   "metadata": {
    "collapsed": false
   },
   "outputs": [],
   "source": [
    "# Normalize the objective space by converting each value to the relative achievement along its axis:\n",
    "\n",
    "#   distance from the worst case value\n",
    "# ---------------------------------------\n",
    "# total distance spanned by the objective\n",
    "\n",
    "# Objective space is now in [0,1]^N (N is number of objectives)\n",
    "\n",
    "\n",
    "for obj,bounds in objBounds.items():\n",
    "    sols[obj] = sols[obj].apply(\n",
    "        lambda x: \\\n",
    "        abs(x - worstObjVals[obj]) / \\\n",
    "        (bounds[1]-bounds[0]))"
   ]
  },
  {
   "cell_type": "markdown",
   "metadata": {},
   "source": [
    "### Define hyperrectangle class"
   ]
  },
  {
   "cell_type": "code",
   "execution_count": 67,
   "metadata": {
    "collapsed": true
   },
   "outputs": [],
   "source": [
    "class HyperRectangle_Origin:\n",
    "    \"\"\" A class to manufacture hyperrectangle (N-dimensional rectangle) objects\n",
    "    in which all dimensions live in positive real numbers (R^+)\"\"\"\n",
    "\n",
    "    def __init__(self, farCorner):\n",
    "        \"\"\" Initialize hyperrectangle with extreme points at the origin and farCorner\"\"\"\n",
    "        self.n = len(farCorner)\n",
    "        self.origin = np.zeros(self.n)\n",
    "        self.farCorner = farCorner\n",
    "        self.volume = np.prod(farCorner)\n",
    "    \n",
    "    def __str__(self):\n",
    "        result = \"(\" + str(self.farCorner[0])\n",
    "        for coord in self.farCorner[1:]:\n",
    "            result += \", \" + str(coord)\n",
    "        return  result + \")\" \n",
    "        \n",
    "\n",
    "    def contains(self, point):\n",
    "        \"\"\" Determine whether point lies within the hyperrectangle \"\"\"\n",
    "        if (np.array(point) < 0).any():\n",
    "            return False\n",
    "        else:\n",
    "            return (np.array(point) <= self.farCorner).all()"
   ]
  },
  {
   "cell_type": "markdown",
   "metadata": {},
   "source": [
    "### Begin volume computation"
   ]
  },
  {
   "cell_type": "code",
   "execution_count": 103,
   "metadata": {
    "collapsed": false
   },
   "outputs": [],
   "source": [
    "# Number of simulations to perform\n",
    " \n",
    "N = np.arange(100,10000,100)"
   ]
  },
  {
   "cell_type": "code",
   "execution_count": 104,
   "metadata": {
    "collapsed": true
   },
   "outputs": [],
   "source": [
    "# Create dataframe to hold num-simulations - volume relationship\n",
    "\n",
    "volsim = pd.DataFrame(index=N, columns=[\"Volume\"])"
   ]
  },
  {
   "cell_type": "code",
   "execution_count": 105,
   "metadata": {
    "collapsed": false
   },
   "outputs": [],
   "source": [
    "# Instantiate series of hyperrectangles\n",
    "\n",
    "hrects = []"
   ]
  },
  {
   "cell_type": "code",
   "execution_count": 106,
   "metadata": {
    "collapsed": false
   },
   "outputs": [],
   "source": [
    "# To the frontier, add a hyperrectangle for each solution\n",
    "\n",
    "for idx, row in sols.iterrows():\n",
    "    hrects.append(HyperRectangle_Origin(row[objs].tolist()))"
   ]
  },
  {
   "cell_type": "code",
   "execution_count": 107,
   "metadata": {
    "collapsed": true
   },
   "outputs": [],
   "source": [
    "# Store the number of dimensions\n",
    "\n",
    "dims = hrects[0].n"
   ]
  },
  {
   "cell_type": "code",
   "execution_count": 110,
   "metadata": {
    "collapsed": false
   },
   "outputs": [],
   "source": [
    "# Compute volume by checking number of points that fall within any of the rectangles\n",
    "for idx,row in volsim.iterrows():\n",
    "    numSim = idx\n",
    "    numWithin = 0\n",
    "    for n in range(numSim):\n",
    "        # see if a random point is within the frontier\n",
    "        rand = np.random.rand(dims)\n",
    "        numWithin += len([hrect for hrect in hrects if hrect.contains(rand)])>0\n",
    "    volsim.set_value(idx,\"Volume\",numWithin/numSim)"
   ]
  },
  {
   "cell_type": "code",
   "execution_count": 111,
   "metadata": {
    "collapsed": false
   },
   "outputs": [
    {
     "data": {
      "text/html": [
       "<div>\n",
       "<table border=\"1\" class=\"dataframe\">\n",
       "  <thead>\n",
       "    <tr style=\"text-align: right;\">\n",
       "      <th></th>\n",
       "      <th>Volume</th>\n",
       "    </tr>\n",
       "  </thead>\n",
       "  <tbody>\n",
       "    <tr>\n",
       "      <th>10</th>\n",
       "      <td>0.6</td>\n",
       "    </tr>\n",
       "    <tr>\n",
       "      <th>20</th>\n",
       "      <td>0.5</td>\n",
       "    </tr>\n",
       "    <tr>\n",
       "      <th>30</th>\n",
       "      <td>0.4333333</td>\n",
       "    </tr>\n",
       "    <tr>\n",
       "      <th>40</th>\n",
       "      <td>0.65</td>\n",
       "    </tr>\n",
       "    <tr>\n",
       "      <th>50</th>\n",
       "      <td>0.64</td>\n",
       "    </tr>\n",
       "    <tr>\n",
       "      <th>60</th>\n",
       "      <td>0.55</td>\n",
       "    </tr>\n",
       "    <tr>\n",
       "      <th>70</th>\n",
       "      <td>0.6285714</td>\n",
       "    </tr>\n",
       "    <tr>\n",
       "      <th>80</th>\n",
       "      <td>0.5625</td>\n",
       "    </tr>\n",
       "    <tr>\n",
       "      <th>90</th>\n",
       "      <td>0.5777778</td>\n",
       "    </tr>\n",
       "  </tbody>\n",
       "</table>\n",
       "</div>"
      ],
      "text/plain": [
       "       Volume\n",
       "10        0.6\n",
       "20        0.5\n",
       "30  0.4333333\n",
       "40       0.65\n",
       "50       0.64\n",
       "60       0.55\n",
       "70  0.6285714\n",
       "80     0.5625\n",
       "90  0.5777778"
      ]
     },
     "execution_count": 111,
     "metadata": {},
     "output_type": "execute_result"
    }
   ],
   "source": [
    "volsim"
   ]
  }
 ],
 "metadata": {
  "kernelspec": {
   "display_name": "Python 3",
   "language": "python",
   "name": "python3"
  },
  "language_info": {
   "codemirror_mode": {
    "name": "ipython",
    "version": 3
   },
   "file_extension": ".py",
   "mimetype": "text/x-python",
   "name": "python",
   "nbconvert_exporter": "python",
   "pygments_lexer": "ipython3",
   "version": "3.4.4"
  }
 },
 "nbformat": 4,
 "nbformat_minor": 0
}
