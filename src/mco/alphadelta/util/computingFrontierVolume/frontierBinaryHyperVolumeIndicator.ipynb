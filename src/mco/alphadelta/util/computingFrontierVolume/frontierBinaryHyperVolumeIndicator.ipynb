{
 "cells": [
  {
   "cell_type": "markdown",
   "metadata": {},
   "source": [
    "# Computing the binary hypervolume indicator\n",
    "Given two Pareto-optimal frontiers f1 and f2, this program computes the hypervolume I_H2(f1,f2) bounded by one frontier f1, not bounded by the other f2. The relative values of I_H2(f1,f2) and I_H2(f2,f1) provide information about the dominance relationship that exists between the two frontiers. The larger I_H2(f1,f2), the more volume of f1 that is not captured by f2, which signifies less conflit among the objectives in f1 relative to f2."
   ]
  },
  {
   "cell_type": "code",
   "execution_count": 18,
   "metadata": {
    "collapsed": true
   },
   "outputs": [],
   "source": [
    "import pandas as pd\n",
    "import numpy as np\n",
    "import time"
   ]
  },
  {
   "cell_type": "markdown",
   "metadata": {},
   "source": [
    "### Preparation for volume computation algorithm"
   ]
  },
  {
   "cell_type": "code",
   "execution_count": 19,
   "metadata": {
    "collapsed": false
   },
   "outputs": [],
   "source": [
    "# Get the solutions that define the pareto frontier.\n",
    "# It is assumed that these frontiers do not contain any dominated solutions\n",
    "# (that is, that the solutions are truly Pareto optimal)\n",
    "\n",
    "sols = pd.read_csv(\"../solutionSets/3d/ClimateChange_None/OptimalSolutions_NONE_nondominated.txt\")\n",
    "sols2 = pd.read_csv(\"../solutionSets/3d/ClimateChange_E85/OptimalSolutions_E85_temp_nondominated.txt\")"
   ]
  },
  {
   "cell_type": "code",
   "execution_count": 20,
   "metadata": {
    "collapsed": false
   },
   "outputs": [],
   "source": [
    "# Hard-coded manipulations to tidy-up sols\n",
    "\n",
    "# set index, remove unwanted columns\n",
    "sols = sols.set_index(\"1-\" + sols[\"SolutionIndex\"].astype(str))\n",
    "sols = sols.drop([\"SolutionIndex\"],axis=1)\n",
    "# set index, remove unwanted columns\n",
    "sols2 = sols2.set_index(\"2-\" + sols2[\"SolutionIndex\"].astype(str))\n",
    "sols2 = sols2.drop([\"SolutionIndex\"],axis=1)"
   ]
  },
  {
   "cell_type": "code",
   "execution_count": 21,
   "metadata": {
    "collapsed": false
   },
   "outputs": [],
   "source": [
    "# Get list of objectives from the dataframe\n",
    "\n",
    "objs = sols.columns.tolist()"
   ]
  },
  {
   "cell_type": "code",
   "execution_count": 22,
   "metadata": {
    "collapsed": true
   },
   "outputs": [],
   "source": [
    "# Create empty dictionary to hold the objectives and the senses of each\n",
    "# This process is hard-coded and requires some knowledge about the model\n",
    "# that resulted in the dataframe\n",
    "\n",
    "objSenses = {}\n",
    "\n",
    "# Hard-coded manipulations to properly set objSenses (max/min)\n",
    "# 1 for max, and 0 for min\n",
    "\n",
    "for obj in objs:\n",
    "    objSenses[obj] = 0\n",
    "objSenses[\" MinOwlHabitat\"] = 1\n",
    "#objSenses[\"PER\"] = 0\n",
    "#objSenses"
   ]
  },
  {
   "cell_type": "code",
   "execution_count": 23,
   "metadata": {
    "collapsed": true
   },
   "outputs": [],
   "source": [
    "def maxAll(origf,objSenses):\n",
    "    \n",
    "    f = origf\n",
    "    \n",
    "    # get bounds on the objectives' values\n",
    "    objBounds = {}\n",
    "    for obj,sense in objSenses.items():\n",
    "        objBounds[obj] = [f[obj].min(),f[obj].max()]\n",
    "    # get each objective's ideal value\n",
    "    idealObjVals = {}\n",
    "    for obj,bounds in objBounds.items():\n",
    "        idealObjVals[obj] = bounds[objSenses[obj]] # 0th entry of bounds is min, 1st is max\n",
    "    # get each objective's worst value\n",
    "    worstObjVals = {}\n",
    "    for obj,bounds in objBounds.items():\n",
    "        worstObjVals[obj] = bounds[not(objSenses[obj])]\n",
    "        \n",
    "    # Convert each objective to a maximization\n",
    "\n",
    "    for obj,bounds in objBounds.items():\n",
    "        f[obj] = f[obj].apply(\n",
    "            lambda x: \\\n",
    "            abs(x - worstObjVals[obj]))\n",
    "    \n",
    "    return f"
   ]
  },
  {
   "cell_type": "code",
   "execution_count": 24,
   "metadata": {
    "collapsed": true
   },
   "outputs": [],
   "source": [
    "def maxAllAndNorm(origf,objSenses):\n",
    "    \n",
    "    f = origf\n",
    "    \n",
    "    # get bounds on the objectives' values\n",
    "    objBounds = {}\n",
    "    for obj,sense in objSenses.items():\n",
    "        objBounds[obj] = [f[obj].min(),f[obj].max()]\n",
    "    # get each objective's ideal value\n",
    "    idealObjVals = {}\n",
    "    for obj,bounds in objBounds.items():\n",
    "        idealObjVals[obj] = bounds[objSenses[obj]] # 0th entry of bounds is min, 1st is max\n",
    "    # get each objective's worst value\n",
    "    worstObjVals = {}\n",
    "    for obj,bounds in objBounds.items():\n",
    "        worstObjVals[obj] = bounds[not(objSenses[obj])]\n",
    "        \n",
    "    # Normalize the objective spaces by converting each value to the relative achievement along its axis:\n",
    "\n",
    "    #   distance from the worst case value\n",
    "    # ---------------------------------------\n",
    "    # total distance spanned by the objective\n",
    "\n",
    "    # Normalized objective space is in [0,1]^N where N = # of objectives\n",
    "\n",
    "\n",
    "    for obj,bounds in objBounds.items():\n",
    "        f[obj] = f[obj].apply(\n",
    "            lambda x: \\\n",
    "            abs(x - worstObjVals[obj]) / \\\n",
    "            (bounds[1]-bounds[0]))\n",
    "    \n",
    "    return f"
   ]
  },
  {
   "cell_type": "code",
   "execution_count": 25,
   "metadata": {
    "collapsed": false
   },
   "outputs": [],
   "source": [
    "# Compute the binary epsilon indicator\n",
    "\n",
    "\n",
    "# Set this boolean toggle to\n",
    "    # true if you want to normalize the objective space,\n",
    "    # false otherwise\n",
    "normalize = False\n",
    "\n",
    "if normalize:\n",
    "    sols = maxAllAndNorm(sols,objSenses)\n",
    "    sols2 = maxAllAndNorm(sols2,objSenses)\n",
    "else:\n",
    "    sols = maxAll(sols,objSenses)\n",
    "    sols2 = maxAll(sols2,objSenses)"
   ]
  },
  {
   "cell_type": "code",
   "execution_count": 26,
   "metadata": {
    "collapsed": false
   },
   "outputs": [],
   "source": [
    "def removeDominatedSolutions(f):\n",
    "    '''\n",
    "    Given a dataframe of solutions, returns a dataframe with only\n",
    "    nondominated solutions.\n",
    "    \n",
    "    It is assumed that each column is an objective and that all objectives\n",
    "    aim to be maximized.\n",
    "    '''\n",
    "    newf = f\n",
    "\n",
    "    objectives = f.columns.tolist()\n",
    "    \n",
    "    for idx,row in f.iterrows(): # searching for a solution that dominates this one\n",
    "        for idx2,row2 in f.iterrows(): # scanning over all other solutions\n",
    "            if np.all((row[objectives] < row2[objectives])): # if we find a solution that dominates idx,\n",
    "                newf = newf.drop(idx) # then we remove that index from the to-be-returned dataframe\n",
    "                break # and stop searching for a dominating solution\n",
    "            \n",
    "    return newf"
   ]
  },
  {
   "cell_type": "markdown",
   "metadata": {},
   "source": [
    "### Algorithm to compute volume of frontier"
   ]
  },
  {
   "cell_type": "markdown",
   "metadata": {
    "collapsed": true
   },
   "source": [
    "For a mathematical description of the below algorithm, see ./algorithmWriteUp/frontierVolumeComputation_writeup.pdf"
   ]
  },
  {
   "cell_type": "code",
   "execution_count": 27,
   "metadata": {
    "collapsed": false
   },
   "outputs": [],
   "source": [
    "# Sort the dataframe in descending order from first column\n",
    "# (always descending, since objectives normalized bad->good = 0->1)\n",
    "\n",
    "sols = sols.sort_values(by=[objs[0]],ascending=False)\n",
    "sols2 = sols2.sort_values(by=[objs[0]],ascending=False)\n",
    "# Create the merged frontier\n",
    "combinedFrontier = removeDominatedSolutions(pd.concat([sols,sols2])).sort_values(by=[objs[0]],ascending=False)"
   ]
  },
  {
   "cell_type": "code",
   "execution_count": 28,
   "metadata": {
    "collapsed": false
   },
   "outputs": [],
   "source": [
    "# Create an empty dataframe to hold the solutions whose volumes have already been accounted for,\n",
    "# adding a column to hold its subdimensional volume contribution,\n",
    "# and a column to indicate whether it is a boundary solution in sub-dimensional space\n",
    "\n",
    "\n",
    "completedFrontierPoints = sols[sols[objs[0]]<0]\n",
    "completedFrontierPoints[\"SubDimContribution\"] = pd.Series()\n",
    "completedFrontierPoints[\"BoundarySolution\"] = pd.Series()"
   ]
  },
  {
   "cell_type": "code",
   "execution_count": 29,
   "metadata": {
    "collapsed": false
   },
   "outputs": [],
   "source": [
    "# Get list of all non-primary dimensions\n",
    "\n",
    "dims_secondary = [col for col in sols.columns if col not in [objs[0]]]"
   ]
  },
  {
   "cell_type": "code",
   "execution_count": 30,
   "metadata": {
    "collapsed": true
   },
   "outputs": [],
   "source": [
    "def getSideVolInSubDim(dim,frontierPoint,completedFrontierPoints):\n",
    "    \n",
    "    sideVolInSubDim = 0\n",
    "    \n",
    "    # Get the sorted list of boundary solutions with dim component larger than the current point\n",
    "    sideSols_dim = completedFrontierPoints.loc[(completedFrontierPoints[\"BoundarySolution\"]>0) & \\\n",
    "                                              (completedFrontierPoints[dim] > frontierPoint[dim])]\\\n",
    "                                            .sort_values(by=[dim],ascending=True)\n",
    "    # If there are none, there are no sides to add\n",
    "    if sideSols_dim.empty:\n",
    "        return sideVolInSubDim\n",
    "    \n",
    "    otherSecondaryDims = [d for d in dims_secondary if d != dim]\n",
    "    prevDimComponent = frontierPoint[dim]\n",
    "    currDimComponent = 0\n",
    "    for idx,row in sideSols_dim.iterrows():\n",
    "        currDimComponent = row[dim]\n",
    "        dimDelta = currDimComponent - prevDimComponent\n",
    "        sideVolInSubDim += dimDelta * row[otherSecondaryDims].product()\n",
    "        prevDimComponent = currDimComponent\n",
    "    \n",
    "    return sideVolInSubDim\n",
    "        "
   ]
  },
  {
   "cell_type": "code",
   "execution_count": 31,
   "metadata": {
    "collapsed": true
   },
   "outputs": [],
   "source": [
    "def getSubDimVolumeFromFrontierPoint(frontierPoint,completedFrontierPoints):\n",
    "    # Get a solution's sub-D volume back to the origin\n",
    "    subDimContrib = frontierPoint[dims_secondary].product()\n",
    "    # Subtract everything pre-existing away from it\n",
    "    subDimContrib -= completedFrontierPoints[\"SubDimContribution\"].sum()\n",
    "    # Add back in the sides\n",
    "    for dim in dims_secondary:\n",
    "        subDimContrib += getSideVolInSubDim(dim,frontierPoint,completedFrontierPoints)\n",
    "    \n",
    "    return subDimContrib"
   ]
  },
  {
   "cell_type": "code",
   "execution_count": 32,
   "metadata": {
    "collapsed": false
   },
   "outputs": [],
   "source": [
    "def getFrontierVolume(initFrontierVolume, remainingFrontierPoints, completedFrontierPoints):\n",
    "    if len(remainingFrontierPoints) == 0:\n",
    "        return initFrontierVolume\n",
    "    else:\n",
    "        # next solution to add to frontier vol\n",
    "        currSol = remainingFrontierPoints.iloc[0]\n",
    "        # will always be nondominated in sub-D space\n",
    "        currSol[\"BoundarySolution\"] = True\n",
    "        # change boundary status of points that the current solution dominates:\n",
    "        completedFrontierPoints.loc[np.all([completedFrontierPoints[obj] < currSol[obj] for obj in dims_secondary]\\\n",
    "                                           ,axis=0),\\\n",
    "                                    \"BoundarySolution\"] = False\n",
    "        # Get the sub-D volume for the current solution\n",
    "        currSol[\"SubDimContribution\"] = getSubDimVolumeFromFrontierPoint(currSol,completedFrontierPoints)\n",
    "        # Update the frontier volume\n",
    "        initFrontierVolume += currSol[\"SubDimContribution\"] * currSol[objs[0]]\n",
    "        # update the points added to the frontier\n",
    "        completedFrontierPoints = completedFrontierPoints.append(currSol,ignore_index=True)\n",
    "        # update the remaining points\n",
    "        remainingFrontierPoints = remainingFrontierPoints.drop(currSol.name)\n",
    "        # recursive call\n",
    "        return getFrontierVolume(initFrontierVolume,remainingFrontierPoints,completedFrontierPoints)"
   ]
  },
  {
   "cell_type": "code",
   "execution_count": 33,
   "metadata": {
    "collapsed": false,
    "scrolled": true
   },
   "outputs": [
    {
     "name": "stdout",
     "output_type": "stream",
     "text": [
      "Elapsed time: 0.6567003458005729\n",
      "Frontier Volume 1: 101896.354247\n",
      "Elapsed time: 1.6495067872877485\n",
      "Frontier Volume 2: 3470983.74451\n",
      "Elapsed time: 2.6043782303871694\n",
      "Frontier Volume Merged: 3497627.87742\n"
     ]
    }
   ],
   "source": [
    "start = time.clock()\n",
    "frontierVolume1 = getFrontierVolume(0,sols,completedFrontierPoints)\n",
    "end = time.clock()\n",
    "print (\"Elapsed time: \" + (str(end-start)))\n",
    "print (\"Frontier Volume 1: \" + str(frontierVolume1))\n",
    "start = time.clock()\n",
    "frontierVolume2 = getFrontierVolume(0,sols2,completedFrontierPoints)\n",
    "end = time.clock()\n",
    "print (\"Elapsed time: \" + (str(end-start)))\n",
    "print (\"Frontier Volume 2: \" + str(frontierVolume2))\n",
    "start = time.clock()\n",
    "frontierVolumeBoth = getFrontierVolume(0,combinedFrontier,completedFrontierPoints)\n",
    "end = time.clock()\n",
    "print (\"Elapsed time: \" + (str(end-start)))\n",
    "print (\"Frontier Volume Merged: \" + str(frontierVolumeBoth))"
   ]
  },
  {
   "cell_type": "code",
   "execution_count": 18,
   "metadata": {
    "collapsed": false
   },
   "outputs": [
    {
     "data": {
      "text/plain": [
       "17049920.132945087"
      ]
     },
     "execution_count": 18,
     "metadata": {},
     "output_type": "execute_result"
    }
   ],
   "source": [
    "frontierVolumeBoth-frontierVolume1"
   ]
  }
 ],
 "metadata": {
  "kernelspec": {
   "display_name": "Python 3",
   "language": "python",
   "name": "python3"
  },
  "language_info": {
   "codemirror_mode": {
    "name": "ipython",
    "version": 3
   },
   "file_extension": ".py",
   "mimetype": "text/x-python",
   "name": "python",
   "nbconvert_exporter": "python",
   "pygments_lexer": "ipython3",
   "version": "3.4.4"
  }
 },
 "nbformat": 4,
 "nbformat_minor": 0
}
