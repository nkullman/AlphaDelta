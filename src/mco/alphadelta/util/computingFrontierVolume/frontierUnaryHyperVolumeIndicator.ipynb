{
 "cells": [
  {
   "cell_type": "markdown",
   "metadata": {},
   "source": [
    "# Computing the hypervolume indicator of a Pareto frontier\n",
    "This program computes the volume under a frontier of Pareto-optimal solutions to a multi-criterion optimization model, which provides a measure of the conflict among the objectives."
   ]
  },
  {
   "cell_type": "code",
   "execution_count": 33,
   "metadata": {
    "collapsed": true
   },
   "outputs": [],
   "source": [
    "import pandas as pd\n",
    "import numpy as np\n",
    "import time"
   ]
  },
  {
   "cell_type": "markdown",
   "metadata": {},
   "source": [
    "### Preparation for volume computation algorithm"
   ]
  },
  {
   "cell_type": "code",
   "execution_count": 45,
   "metadata": {
    "collapsed": false
   },
   "outputs": [],
   "source": [
    "# Get the solutions that define the pareto frontier.\n",
    "# It is assumed that these frontiers do not contain any dominated solutions\n",
    "# (that is, that the solutions are truly Pareto optimal)\n",
    "\n",
    "sols = pd.read_csv(\"../solutionSets/3d/ClimateChange_E85/climateChange_EfficientSolutions_E85.csv\")"
   ]
  },
  {
   "cell_type": "code",
   "execution_count": 46,
   "metadata": {
    "collapsed": false
   },
   "outputs": [],
   "source": [
    "# Hard-coded manipulations to tidy-up sols\n",
    "\n",
    "sols = sols.drop([\"SolutionIndex\",\"Frontier\"],axis=1) #remove solution index and frontier columns"
   ]
  },
  {
   "cell_type": "code",
   "execution_count": 47,
   "metadata": {
    "collapsed": false
   },
   "outputs": [],
   "source": [
    "# Get list of objectives from the dataframe\n",
    "\n",
    "objs = sols.columns.tolist()"
   ]
  },
  {
   "cell_type": "code",
   "execution_count": 48,
   "metadata": {
    "collapsed": true
   },
   "outputs": [],
   "source": [
    "# Create empty dictionary to hold the objectives and the senses of each\n",
    "# This process is hard-coded and requires some knowledge about the model\n",
    "# that resulted in the sols dataframe\n",
    "\n",
    "objSenses = {}"
   ]
  },
  {
   "cell_type": "code",
   "execution_count": 49,
   "metadata": {
    "collapsed": false
   },
   "outputs": [],
   "source": [
    "# Hard-coded manipulations to properly set objSenses (max/min)\n",
    "# 1 for max, and 0 for min\n",
    "\n",
    "for obj in objs:\n",
    "    objSenses[obj] = 0\n",
    "objSenses[\"Northern Spotted Owl Habitat (ha)\"] = 1\n",
    "#objSenses[\"PER\"] = 0\n",
    "#objSenses"
   ]
  },
  {
   "cell_type": "code",
   "execution_count": 50,
   "metadata": {
    "collapsed": false
   },
   "outputs": [],
   "source": [
    "# Get the objectives' bounds\n",
    "\n",
    "objBounds = {}\n",
    "for obj,sense in objSenses.items():\n",
    "    objBounds[obj] = [sols[obj].min(),sols[obj].max()]"
   ]
  },
  {
   "cell_type": "code",
   "execution_count": 51,
   "metadata": {
    "collapsed": false
   },
   "outputs": [],
   "source": [
    "# Get each objective's ideal value\n",
    "\n",
    "idealObjVals = {}\n",
    "for obj,bounds in objBounds.items():\n",
    "    idealObjVals[obj] = bounds[objSenses[obj]] # 0th entry of bounds is min, 1st is max"
   ]
  },
  {
   "cell_type": "code",
   "execution_count": 52,
   "metadata": {
    "collapsed": false
   },
   "outputs": [],
   "source": [
    "# Get each objective's worst value\n",
    "\n",
    "worstObjVals = {}\n",
    "for obj,bounds in objBounds.items():\n",
    "    worstObjVals[obj] = bounds[not(objSenses[obj])]"
   ]
  },
  {
   "cell_type": "code",
   "execution_count": 53,
   "metadata": {
    "collapsed": true
   },
   "outputs": [],
   "source": [
    "# Compute the non-normalized volume of the objective space\n",
    "\n",
    "objSpaceVolume_nonNorm = 1\n",
    "for obj,bounds in objBounds.items():\n",
    "    objSpaceVolume_nonNorm *= bounds[1] - bounds[0]"
   ]
  },
  {
   "cell_type": "code",
   "execution_count": 54,
   "metadata": {
    "collapsed": false
   },
   "outputs": [],
   "source": [
    "# Normalize the objective space by converting each value to the relative achievement along its axis:\n",
    "\n",
    "#   distance from the worst case value\n",
    "# ---------------------------------------\n",
    "# total distance spanned by the objective\n",
    "\n",
    "# Objective space is now in [0,1]^N where N is number of objectives\n",
    "\n",
    "\n",
    "for obj,bounds in objBounds.items():\n",
    "    sols[obj] = sols[obj].apply(\n",
    "        lambda x: \\\n",
    "        abs(x - worstObjVals[obj]) / \\\n",
    "        (bounds[1]-bounds[0]))"
   ]
  },
  {
   "cell_type": "markdown",
   "metadata": {},
   "source": [
    "### Algorithm to compute volume of frontier"
   ]
  },
  {
   "cell_type": "markdown",
   "metadata": {},
   "source": [
    "#### \"Add-the-sides\" frontier volume computation method"
   ]
  },
  {
   "cell_type": "markdown",
   "metadata": {
    "collapsed": true
   },
   "source": [
    "For a mathematical description of the below algorithm, see ./algorithmWriteUp/frontierVolumeComputation_writeup.pdf"
   ]
  },
  {
   "cell_type": "code",
   "execution_count": 56,
   "metadata": {
    "collapsed": false
   },
   "outputs": [],
   "source": [
    "# Initialize frontier volume\n",
    "\n",
    "frontierVolume = 0"
   ]
  },
  {
   "cell_type": "code",
   "execution_count": 26,
   "metadata": {
    "collapsed": false
   },
   "outputs": [],
   "source": [
    "# Sort the dataframe in descending order from first column\n",
    "# (always descending, since objectives normalized bad->good = 0->1)\n",
    "\n",
    "sols = sols.sort_values(by=[objs[0]],ascending=False)"
   ]
  },
  {
   "cell_type": "code",
   "execution_count": 57,
   "metadata": {
    "collapsed": false
   },
   "outputs": [],
   "source": [
    "# Create an empty dataframe to hold the solutions whose volumes have already been accounted for,\n",
    "# adding a column to hold its subdimensional volume contribution,\n",
    "# and a column to indicate whether it is a boundary solution in sub-dimensional space\n",
    "\n",
    "\n",
    "completedFrontierPoints = sols[sols[objs[0]]<0]\n",
    "completedFrontierPoints[\"SubDimContribution\"] = pd.Series()\n",
    "completedFrontierPoints[\"BoundarySolution\"] = pd.Series()"
   ]
  },
  {
   "cell_type": "code",
   "execution_count": 28,
   "metadata": {
    "collapsed": false
   },
   "outputs": [],
   "source": [
    "# Get list of all non-primary dimensions\n",
    "\n",
    "dims_secondary = [col for col in sols.columns if col not in [objs[0]]]"
   ]
  },
  {
   "cell_type": "code",
   "execution_count": 29,
   "metadata": {
    "collapsed": true
   },
   "outputs": [],
   "source": [
    "def getSideVolInSubDim(dim,frontierPoint,completedFrontierPoints):\n",
    "    \n",
    "    sideVolInSubDim = 0\n",
    "    \n",
    "    # Get the sorted list of boundary solutions with dim component larger than the current point\n",
    "    sideSols_dim = completedFrontierPoints.loc[(completedFrontierPoints[\"BoundarySolution\"]>0) & \\\n",
    "                                              (completedFrontierPoints[dim] > frontierPoint[dim])]\\\n",
    "                                            .sort_values(by=[dim],ascending=True)\n",
    "    # If there are none, there are no sides to add\n",
    "    if sideSols_dim.empty:\n",
    "        return sideVolInSubDim\n",
    "    \n",
    "    otherSecondaryDims = [d for d in dims_secondary if d != dim]\n",
    "    prevDimComponent = frontierPoint[dim]\n",
    "    currDimComponent = 0\n",
    "    for idx,row in sideSols_dim.iterrows():\n",
    "        currDimComponent = row[dim]\n",
    "        dimDelta = currDimComponent - prevDimComponent\n",
    "        sideVolInSubDim += dimDelta * row[otherSecondaryDims].product()\n",
    "        prevDimComponent = currDimComponent\n",
    "    \n",
    "    return sideVolInSubDim\n",
    "        "
   ]
  },
  {
   "cell_type": "code",
   "execution_count": 30,
   "metadata": {
    "collapsed": true
   },
   "outputs": [],
   "source": [
    "def getSubDimVolumeFromFrontierPoint(frontierPoint,completedFrontierPoints):\n",
    "    # Get a solution's sub-D volume back to the origin\n",
    "    subDimContrib = frontierPoint[dims_secondary].product()\n",
    "    # Subtract everything pre-existing away from it\n",
    "    subDimContrib -= completedFrontierPoints[\"SubDimContribution\"].sum()\n",
    "    # Add back in the sides\n",
    "    for dim in dims_secondary:\n",
    "        subDimContrib += getSideVolInSubDim(dim,frontierPoint,completedFrontierPoints)\n",
    "    \n",
    "    return subDimContrib"
   ]
  },
  {
   "cell_type": "code",
   "execution_count": 31,
   "metadata": {
    "collapsed": false
   },
   "outputs": [],
   "source": [
    "def getFrontierVolume(initFrontierVolume, remainingFrontierPoints, completedFrontierPoints):\n",
    "    if len(remainingFrontierPoints) == 0:\n",
    "        return initFrontierVolume\n",
    "    else:\n",
    "        # next solution to add to frontier vol\n",
    "        currSol = remainingFrontierPoints.iloc[0]\n",
    "        # will always be nondominated in sub-D space\n",
    "        currSol[\"BoundarySolution\"] = True\n",
    "        # change boundary status of points that the current solution dominates:\n",
    "        completedFrontierPoints.loc[np.all([completedFrontierPoints[obj] < currSol[obj] for obj in dims_secondary]\\\n",
    "                                           ,axis=0),\\\n",
    "                                    \"BoundarySolution\"] = False\n",
    "        # Get the sub-D volume for the current solution\n",
    "        currSol[\"SubDimContribution\"] = getSubDimVolumeFromFrontierPoint(currSol,completedFrontierPoints)\n",
    "        # Update the frontier volume\n",
    "        initFrontierVolume += currSol[\"SubDimContribution\"] * currSol[objs[0]]\n",
    "        # update the points added to the frontier\n",
    "        completedFrontierPoints = completedFrontierPoints.append(currSol,ignore_index=True)\n",
    "        # update the remaining points\n",
    "        remainingFrontierPoints = remainingFrontierPoints.drop(currSol.name)\n",
    "        # recursive call\n",
    "        return getFrontierVolume(initFrontierVolume,remainingFrontierPoints,completedFrontierPoints)"
   ]
  },
  {
   "cell_type": "code",
   "execution_count": 32,
   "metadata": {
    "collapsed": false
   },
   "outputs": [
    {
     "name": "stdout",
     "output_type": "stream",
     "text": [
      "Elapsed time: 1.3993453481141767\n",
      "Frontier Volume: 0.746556764487\n"
     ]
    }
   ],
   "source": [
    "start = time.clock()\n",
    "frontierVolume = getFrontierVolume(frontierVolume,sols,completedFrontierPoints)\n",
    "end = time.clock()\n",
    "print (\"Elapsed time: \" + (str(end-start)))\n",
    "print (\"Frontier Volume: \" + str(frontierVolume))"
   ]
  }
 ],
 "metadata": {
  "kernelspec": {
   "display_name": "Python 3",
   "language": "python",
   "name": "python3"
  },
  "language_info": {
   "codemirror_mode": {
    "name": "ipython",
    "version": 3
   },
   "file_extension": ".py",
   "mimetype": "text/x-python",
   "name": "python",
   "nbconvert_exporter": "python",
   "pygments_lexer": "ipython3",
   "version": "3.4.4"
  }
 },
 "nbformat": 4,
 "nbformat_minor": 0
}
