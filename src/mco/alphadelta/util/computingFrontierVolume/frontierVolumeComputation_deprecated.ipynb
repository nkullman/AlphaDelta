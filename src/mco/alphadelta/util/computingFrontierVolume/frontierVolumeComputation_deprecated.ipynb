{
 "cells": [
  {
   "cell_type": "markdown",
   "metadata": {},
   "source": [
    "# Computing the volume underneath a Pareto frontier\n",
    "This program computes the volume under a frontier of Pareto-optimal solutions to a multi-criterion optimization model, which provides a measure of the conflict among the objectives."
   ]
  },
  {
   "cell_type": "code",
   "execution_count": 1,
   "metadata": {
    "collapsed": true
   },
   "outputs": [],
   "source": [
    "import pandas as pd\n",
    "import numpy as np\n",
    "import time"
   ]
  },
  {
   "cell_type": "markdown",
   "metadata": {},
   "source": [
    "### Preparation for volume computation algorithm"
   ]
  },
  {
   "cell_type": "code",
   "execution_count": 2,
   "metadata": {
    "collapsed": false
   },
   "outputs": [],
   "source": [
    "# Get the solutions that define the pareto frontier.\n",
    "# It is assumed that these frontiers do not contain any dominated solutions\n",
    "# (that is, that the solutions are truly Pareto optimal)\n",
    "\n",
    "sols = pd.read_csv(\"../solutionSets/3d/ClimateChange_None/climateChange_EfficientSolutions_NoneOnly.csv\")"
   ]
  },
  {
   "cell_type": "code",
   "execution_count": 3,
   "metadata": {
    "collapsed": false
   },
   "outputs": [],
   "source": [
    "# Hard-coded manipulations to tidy-up sols\n",
    "\n",
    "sols = sols.drop([\"SolutionIndex\",\"Frontier\"],axis=1) #remove solution index and frontier columns"
   ]
  },
  {
   "cell_type": "code",
   "execution_count": 4,
   "metadata": {
    "collapsed": false
   },
   "outputs": [],
   "source": [
    "# Get list of objectives from the dataframe\n",
    "\n",
    "objs = sols.columns.tolist()"
   ]
  },
  {
   "cell_type": "code",
   "execution_count": 5,
   "metadata": {
    "collapsed": true
   },
   "outputs": [],
   "source": [
    "# Create empty dictionary to hold the objectives and the senses of each\n",
    "# This process is hard-coded and requires some knowledge about the model\n",
    "# that resulted in the sols dataframe\n",
    "\n",
    "objSenses = {}"
   ]
  },
  {
   "cell_type": "code",
   "execution_count": 6,
   "metadata": {
    "collapsed": false
   },
   "outputs": [],
   "source": [
    "# Hard-coded manipulations to properly set objSenses (max/min)\n",
    "# 1 for max, and 0 for min\n",
    "\n",
    "for obj in objs:\n",
    "    objSenses[obj] = 0 # all objectives are min for curr example\n",
    "objSenses[\"Northern Spotted Owl Habitat (ha)\"] = 1 #except owl"
   ]
  },
  {
   "cell_type": "code",
   "execution_count": 7,
   "metadata": {
    "collapsed": false
   },
   "outputs": [],
   "source": [
    "# Get the objectives' bounds\n",
    "\n",
    "objBounds = {}\n",
    "for obj,sense in objSenses.items():\n",
    "    objBounds[obj] = [sols[obj].min(),sols[obj].max()]"
   ]
  },
  {
   "cell_type": "code",
   "execution_count": 8,
   "metadata": {
    "collapsed": false
   },
   "outputs": [],
   "source": [
    "# Get each objective's ideal value\n",
    "\n",
    "idealObjVals = {}\n",
    "for obj,bounds in objBounds.items():\n",
    "    idealObjVals[obj] = bounds[objSenses[obj]] # 0th entry of bounds is min, 1st is max"
   ]
  },
  {
   "cell_type": "code",
   "execution_count": 9,
   "metadata": {
    "collapsed": false
   },
   "outputs": [],
   "source": [
    "# Get each objective's worst value\n",
    "\n",
    "worstObjVals = {}\n",
    "for obj,bounds in objBounds.items():\n",
    "    worstObjVals[obj] = bounds[not(objSenses[obj])]"
   ]
  },
  {
   "cell_type": "code",
   "execution_count": 10,
   "metadata": {
    "collapsed": true
   },
   "outputs": [],
   "source": [
    "# Compute the non-normalized volume of the objective space\n",
    "\n",
    "objSpaceVolume_nonNorm = 1\n",
    "for obj,bounds in objBounds.items():\n",
    "    objSpaceVolume_nonNorm *= bounds[1] - bounds[0]"
   ]
  },
  {
   "cell_type": "code",
   "execution_count": 11,
   "metadata": {
    "collapsed": false
   },
   "outputs": [],
   "source": [
    "# Normalize the objective space by converting each value to the relative achievement along its axis:\n",
    "\n",
    "#   distance from the worst case value\n",
    "# ---------------------------------------\n",
    "# total distance spanned by the objective\n",
    "\n",
    "# Objective space is now in [0,1]^N where N is number of objectives\n",
    "\n",
    "\n",
    "for obj,bounds in objBounds.items():\n",
    "    sols[obj] = sols[obj].apply(\n",
    "        lambda x: \\\n",
    "        abs(x - worstObjVals[obj]) / \\\n",
    "        (bounds[1]-bounds[0]))"
   ]
  },
  {
   "cell_type": "markdown",
   "metadata": {},
   "source": [
    "### Algorithm to compute volume of frontier"
   ]
  },
  {
   "cell_type": "markdown",
   "metadata": {},
   "source": [
    "#### \"Add-the-sides\" frontier volume computation method"
   ]
  },
  {
   "cell_type": "markdown",
   "metadata": {
    "collapsed": true
   },
   "source": [
    "For a mathematical description of the below algorithm, see ./algorithmWriteUp/frontierVolumeComputation_writeup.pdf"
   ]
  },
  {
   "cell_type": "code",
   "execution_count": 24,
   "metadata": {
    "collapsed": true
   },
   "outputs": [],
   "source": [
    "# Initialize frontier volume\n",
    "\n",
    "frontierVolume = 0"
   ]
  },
  {
   "cell_type": "code",
   "execution_count": 25,
   "metadata": {
    "collapsed": true
   },
   "outputs": [],
   "source": [
    "# Initialize sub-dimensional (N-1) volume\n",
    "\n",
    "subDimVolume = 0"
   ]
  },
  {
   "cell_type": "code",
   "execution_count": 26,
   "metadata": {
    "collapsed": true
   },
   "outputs": [],
   "source": [
    "# Initialize the dictionary of solutions' sub-dimensional (N-1) volume contributions\n",
    "# index: contribution \n",
    "\n",
    "subDimContributions = {}"
   ]
  },
  {
   "cell_type": "code",
   "execution_count": 27,
   "metadata": {
    "collapsed": true
   },
   "outputs": [],
   "source": [
    "# Initialize the array of boundary solutions - those not dominated in the sub-dimensional space\n",
    "\n",
    "subDimBoundarySols = []"
   ]
  },
  {
   "cell_type": "code",
   "execution_count": 28,
   "metadata": {
    "collapsed": false
   },
   "outputs": [],
   "source": [
    "# Sort the dataframe in descending order from first column\n",
    "# (always descending, since objectives normalized bad->good = 0->1)\n",
    "\n",
    "sols = sols.sort_values(by=[objs[0]],ascending=False)"
   ]
  },
  {
   "cell_type": "code",
   "execution_count": 29,
   "metadata": {
    "collapsed": false
   },
   "outputs": [],
   "source": [
    "# Get list of all non-primary dimensions\n",
    "\n",
    "dims_secondary = [col for col in sols.columns if col not in [objs[0]]]"
   ]
  },
  {
   "cell_type": "code",
   "execution_count": 30,
   "metadata": {
    "collapsed": false
   },
   "outputs": [],
   "source": [
    "# For measuring time\n",
    "start = time.clock()\n",
    "\n",
    "# Compute the volume\n",
    "\n",
    "# For each solution...\n",
    "for idx,row in sols.iterrows():\n",
    "    \n",
    "    # get its raw sub-dimensional volume contribution, which currently includes overlap\n",
    "    \n",
    "    subDimContribution = row[dims_secondary].product()\n",
    "    \n",
    "    \n",
    "    # Subtract away the contributions from all previous solutions\n",
    "    \n",
    "    for sol,subDimContrib in subDimContributions.items():\n",
    "        subDimContribution -= subDimContrib\n",
    "        \n",
    "        \n",
    "    # Add back the sub-dimensional volume that lies outside the current solution\n",
    "    \n",
    "    ## First, get the current list of boundary solutions.\n",
    "    ## This is all previous boundary solutions, plus the current solution, minus any that the current solution dominates\n",
    "    subDimBoundarySols.append(idx)\n",
    "    enclosedSols = [sol for sol in subDimBoundarySols if (sols[dims_secondary].ix[sol] < row[dims_secondary]).all()]\n",
    "    for sol in enclosedSols:\n",
    "        subDimBoundarySols.remove(sol)\n",
    "    \n",
    "    ## Next, iterate over the sub-dimensions to get the volume of the sides along each axis\n",
    "    for dim in dims_secondary:\n",
    "        ## Get ordered list of boundary solutions that have component along dim-axis that is greater than the current solution\n",
    "        dimSideSols = sols.ix[subDimBoundarySols]\n",
    "        dimSideSols = dimSideSols.loc[dimSideSols[dim] > row[dim]]\n",
    "        ## If there are no better soltions along this axis, then we are done\n",
    "        if dimSideSols.empty:\n",
    "            continue\n",
    "        ## Otherwise, we have sub-dimensional volume to add back.\n",
    "        ## Get the list of other sub-dimensions, needed to compute side-solution sub-dimensional volume contributions\n",
    "        otherSecondaryDims = [d for d in dims_secondary if d != dim]\n",
    "        ## Append the current solution to the list of side solutions\n",
    "        dimSideSols = dimSideSols.append(sols.ix[idx])\n",
    "        ## Sort the list in ascending order along the dim-axis\n",
    "        dimSideSols = dimSideSols.sort_values(by=[dim], ascending=True)\n",
    "        ## Iterate over side solutions and get the subdim volume contributions\n",
    "        ### but first a couple loop primers:\n",
    "        prevDimComponent = 0\n",
    "        solDimComponent = 0\n",
    "        for sideSolIdx,sideSolRow in dimSideSols.iterrows():\n",
    "            ## performing operations on pairs of side solutions, so skip the first\n",
    "            ## the first solution will always be the one for which we are seeking the volume contribution\n",
    "            ## because we built the set to be ascending starting from its component along this dimension\n",
    "            if sideSolIdx == idx:\n",
    "                prevDimComponent = sideSolRow[dim]\n",
    "                continue\n",
    "            solDimComponent = sideSolRow[dim]\n",
    "            dimDelta = solDimComponent - prevDimComponent\n",
    "            subDimContribution += dimDelta*sideSolRow[otherSecondaryDims].product()\n",
    "            prevDimComponent = solDimComponent\n",
    "        \n",
    "        \n",
    "            \n",
    "    # Updating data objects\n",
    "    \n",
    "    subDimContributions[idx] = subDimContribution\n",
    "    subDimVolume += subDimContribution \n",
    "    frontierVolume += subDimContribution*row[objs[0]]\n",
    "\n",
    "end = time.clock()"
   ]
  },
  {
   "cell_type": "code",
   "execution_count": 31,
   "metadata": {
    "collapsed": false
   },
   "outputs": [
    {
     "name": "stdout",
     "output_type": "stream",
     "text": [
      "Elapsed time: 1.846134371449125\n"
     ]
    },
    {
     "data": {
      "text/plain": [
       "0.74655676448721253"
      ]
     },
     "execution_count": 31,
     "metadata": {},
     "output_type": "execute_result"
    }
   ],
   "source": [
    "print (\"Elapsed time: \" + (str(end-start)))\n",
    "frontierVolume"
   ]
  }
 ],
 "metadata": {
  "kernelspec": {
   "display_name": "Python 3",
   "language": "python",
   "name": "python3"
  },
  "language_info": {
   "codemirror_mode": {
    "name": "ipython",
    "version": 3
   },
   "file_extension": ".py",
   "mimetype": "text/x-python",
   "name": "python",
   "nbconvert_exporter": "python",
   "pygments_lexer": "ipython3",
   "version": "3.4.4"
  }
 },
 "nbformat": 4,
 "nbformat_minor": 0
}
